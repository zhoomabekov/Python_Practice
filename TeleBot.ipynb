{
 "cells": [
  {
   "cell_type": "code",
   "execution_count": 35,
   "id": "7dd4f223-ca43-4bd8-8f79-9e6760564eb1",
   "metadata": {},
   "outputs": [],
   "source": [
    "import telebot\n",
    " \n",
    "TOKEN = \"5982940495:AAGlZn-_cquMN5KK6Tsnxi40ijdcE6lAGtg\"\n",
    " \n",
    "bot = telebot.TeleBot(TOKEN)\n",
    "\n",
    "@bot.message_handler(content_types=['text'])\n",
    "def repeat(message: telebot.types.Message):\n",
    "    user = message.chat.username\n",
    "    bot.reply_to(message, f\"Nice to meet you, {user}\")\n",
    "    \n",
    "@bot.message_handler(content_types=['photo'])\n",
    "def ans_to_pic(message: telebot.types.Message):\n",
    "    bot.reply_to(message, \"Nice Photo, uploading it to G-Drive...\")   \n",
    "    \n"
   ]
  },
  {
   "cell_type": "code",
   "execution_count": 36,
   "id": "92d2f87d-7fd3-4444-9f62-9ed56d5050a1",
   "metadata": {},
   "outputs": [],
   "source": [
    "bot.polling(none_stop=True)"
   ]
  },
  {
   "cell_type": "code",
   "execution_count": null,
   "id": "bf7bfbef-aec3-4b1f-9a94-d633fea5c944",
   "metadata": {},
   "outputs": [],
   "source": [
    "# Обрабатываются все сообщения, содержащие команды '/start' or '/help'.\n",
    "@bot.message_handler(commands=['start', 'help'])\n",
    "def handle_start_help(message: telebot.types.Message):\n",
    "    bot.send_message(message.chat.id, f\"You chose START or HELP\")\n",
    " \n",
    "# Обрабатывается все документы и аудиозаписи\n",
    "@bot.message_handler(content_types=['document', 'audio'])\n",
    "def handle_docs_audio(message: telebot.types.Message):\n",
    "    bot.send_message(message.chat.id, \"Hello World!\")"
   ]
  },
  {
   "cell_type": "code",
   "execution_count": null,
   "id": "d4c7ed82-bdcd-4b48-8443-38335aa5b3f8",
   "metadata": {},
   "outputs": [],
   "source": [
    "CONTENT_TYPES = [\"text\", \"audio\", \"document\", \"photo\", \"sticker\", \"video\", \"video_note\", \"voice\", \"location\", \"contact\",\n",
    "                 \"new_chat_members\", \"left_chat_member\", \"new_chat_title\", \"new_chat_photo\", \"delete_chat_photo\",\n",
    "                 \"group_chat_created\", \"supergroup_chat_created\", \"channel_chat_created\", \"migrate_to_chat_id\",\n",
    "                 \"migrate_from_chat_id\", \"pinned_message\"]\n"
   ]
  },
  {
   "cell_type": "code",
   "execution_count": 39,
   "id": "2cbf5b34-7e77-41c4-9245-44a715b5525b",
   "metadata": {},
   "outputs": [
    {
     "name": "stdout",
     "output_type": "stream",
     "text": [
      "{'USD / KZT': '461.23', 'EUR / KZT': '490.52', 'RUB / KZT': '6.49'}\n"
     ]
    },
    {
     "name": "stdin",
     "output_type": "stream",
     "text": [
      "quote:  usd\n",
      "base:  kzt\n",
      "amount:  1000\n"
     ]
    },
    {
     "name": "stdout",
     "output_type": "stream",
     "text": [
      "1,000.00 USD = 461,230.00 KZT\n"
     ]
    }
   ],
   "source": [
    "import requests\n",
    "from bs4 import BeautifulSoup\n",
    "\n",
    "url = \"https://nationalbank.kz/en/exchangerates/ezhednevnye-oficialnye-rynochnye-kursy-valyut\"\n",
    "html = requests.get(url)\n",
    "\n",
    "s = BeautifulSoup(html.content, 'html.parser')\n",
    "results = s.find(class_='table table--striped text-center text-primary text-size-xs')\n",
    "curr = results.find_all('td')\n",
    "convertion_rates = {}\n",
    "i = 0\n",
    "while True:\n",
    "    if len(convertion_rates) == 3:\n",
    "        print(convertion_rates)\n",
    "        break\n",
    "    elif curr[i].text in ['USD / KZT', 'EUR / KZT', 'RUB / KZT']:\n",
    "        convertion_rates[curr[i].text] = curr[i+1].text\n",
    "        i+=2\n",
    "    else:\n",
    "        i += 1\n",
    "\n",
    "factors = {\n",
    "    'USD / KZT': float(convertion_rates['USD / KZT']),\n",
    "    'KZT / USD': 1/float(convertion_rates['USD / KZT']),\n",
    "    \n",
    "    'EUR / KZT': float(convertion_rates['EUR / KZT']),\n",
    "    'KZT / EUR': 1/float(convertion_rates['EUR / KZT']),\n",
    "    \n",
    "    'RUB / KZT': float(convertion_rates['RUB / KZT']),\n",
    "    'KZT / RUB': 1/float(convertion_rates['RUB / KZT']),\n",
    "    \n",
    "    'USD / EUR': float(convertion_rates['USD / KZT']) / float(convertion_rates['EUR / KZT']),\n",
    "    'EUR / USD': float(convertion_rates['EUR / KZT']) / float(convertion_rates['USD / KZT']),\n",
    "    \n",
    "    'EUR / RUB': float(convertion_rates['EUR / KZT']) / float(convertion_rates['RUB / KZT']),\n",
    "    'RUB / EUR': float(convertion_rates['RUB / KZT']) / float(convertion_rates['EUR / KZT']),\n",
    "    \n",
    "    'USD / RUB': float(convertion_rates['USD / KZT']) / float(convertion_rates['RUB / KZT']),\n",
    "    'RUB / USD': float(convertion_rates['RUB / KZT']) / float(convertion_rates['USD / KZT'])\n",
    "}\n",
    "    \n",
    "\n",
    "        \n",
    "quote = input('quote: ').upper()\n",
    "base = input('base: ').upper()\n",
    "amount = float(input('amount: '))\n",
    "converted_amount = amount * factors[' '.join((quote, '/', base))]\n",
    "\n",
    "print(f'{amount:,.2f} {quote} = {converted_amount:,.2f} {base}')\n",
    "\n",
    "# i = 0\n",
    "# while True:\n",
    "#     try:\n",
    "#         curr[i].text\n",
    "#     except Exception:\n",
    "#         print(i)\n",
    "#         break\n",
    "#     i +=1\n",
    "# the above check showed that there are 195 'td' tags"
   ]
  },
  {
   "cell_type": "code",
   "execution_count": 42,
   "id": "7b502bac-606c-425f-a772-5309f3805a6b",
   "metadata": {},
   "outputs": [
    {
     "data": {
      "text/plain": [
       "'450,123.12'"
      ]
     },
     "execution_count": 42,
     "metadata": {},
     "output_type": "execute_result"
    }
   ],
   "source": [
    "f'{450123.12:,.2f}'\n"
   ]
  }
 ],
 "metadata": {
  "kernelspec": {
   "display_name": "Python 3 (ipykernel)",
   "language": "python",
   "name": "python3"
  },
  "language_info": {
   "codemirror_mode": {
    "name": "ipython",
    "version": 3
   },
   "file_extension": ".py",
   "mimetype": "text/x-python",
   "name": "python",
   "nbconvert_exporter": "python",
   "pygments_lexer": "ipython3",
   "version": "3.11.1"
  }
 },
 "nbformat": 4,
 "nbformat_minor": 5
}

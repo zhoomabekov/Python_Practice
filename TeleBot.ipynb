{
 "cells": [
  {
   "cell_type": "code",
   "execution_count": 35,
   "id": "7dd4f223-ca43-4bd8-8f79-9e6760564eb1",
   "metadata": {},
   "outputs": [],
   "source": [
    "import telebot\n",
    " \n",
    "TOKEN = \"5982940495:AAGlZn-_cquMN5KK6Tsnxi40ijdcE6lAGtg\"\n",
    " \n",
    "bot = telebot.TeleBot(TOKEN)\n",
    "\n",
    "@bot.message_handler(content_types=['text'])\n",
    "def repeat(message: telebot.types.Message):\n",
    "    user = message.chat.username\n",
    "    bot.reply_to(message, f\"Nice to meet you, {user}\")\n",
    "    \n",
    "@bot.message_handler(content_types=['photo'])\n",
    "def ans_to_pic(message: telebot.types.Message):\n",
    "    bot.reply_to(message, \"Nice Photo, uploading it to G-Drive...\")   \n",
    "    \n"
   ]
  },
  {
   "cell_type": "code",
   "execution_count": 36,
   "id": "92d2f87d-7fd3-4444-9f62-9ed56d5050a1",
   "metadata": {},
   "outputs": [],
   "source": [
    "bot.polling(none_stop=True)"
   ]
  },
  {
   "cell_type": "code",
   "execution_count": null,
   "id": "bf7bfbef-aec3-4b1f-9a94-d633fea5c944",
   "metadata": {},
   "outputs": [],
   "source": [
    "# Обрабатываются все сообщения, содержащие команды '/start' or '/help'.\n",
    "@bot.message_handler(commands=['start', 'help'])\n",
    "def handle_start_help(message: telebot.types.Message):\n",
    "    bot.send_message(message.chat.id, f\"You chose START or HELP\")\n",
    " \n",
    "# Обрабатывается все документы и аудиозаписи\n",
    "@bot.message_handler(content_types=['document', 'audio'])\n",
    "def handle_docs_audio(message: telebot.types.Message):\n",
    "    bot.send_message(message.chat.id, \"Hello World!\")"
   ]
  },
  {
   "cell_type": "code",
   "execution_count": null,
   "id": "d4c7ed82-bdcd-4b48-8443-38335aa5b3f8",
   "metadata": {},
   "outputs": [],
   "source": [
    "CONTENT_TYPES = [\"text\", \"audio\", \"document\", \"photo\", \"sticker\", \"video\", \"video_note\", \"voice\", \"location\", \"contact\",\n",
    "                 \"new_chat_members\", \"left_chat_member\", \"new_chat_title\", \"new_chat_photo\", \"delete_chat_photo\",\n",
    "                 \"group_chat_created\", \"supergroup_chat_created\", \"channel_chat_created\", \"migrate_to_chat_id\",\n",
    "                 \"migrate_from_chat_id\", \"pinned_message\"]\n"
   ]
  }
 ],
 "metadata": {
  "kernelspec": {
   "display_name": "Python 3 (ipykernel)",
   "language": "python",
   "name": "python3"
  },
  "language_info": {
   "codemirror_mode": {
    "name": "ipython",
    "version": 3
   },
   "file_extension": ".py",
   "mimetype": "text/x-python",
   "name": "python",
   "nbconvert_exporter": "python",
   "pygments_lexer": "ipython3",
   "version": "3.11.1"
  }
 },
 "nbformat": 4,
 "nbformat_minor": 5
}

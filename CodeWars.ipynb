{
 "cells": [
  {
   "cell_type": "code",
   "execution_count": null,
   "id": "3b13a56f-84d6-4acc-879a-f820391b5c20",
   "metadata": {},
   "outputs": [],
   "source": [
    "#To make every word with capital 1-st letter\n",
    "\n",
    "def to_jaden_case(string):\n",
    "    return ' '.join([i.capitalize() for i in string.split(' ')])\n",
    "string = \"How can mirrors be real if our eyes aren't real\"\n",
    "to_jaden_case(string)"
   ]
  },
  {
   "cell_type": "code",
   "execution_count": null,
   "id": "61e5d032-dd77-4975-85b2-74d6bcfa122c",
   "metadata": {},
   "outputs": [],
   "source": [
    "#create a function that takes a list of non-negative integers and strings and returns a new list with the strings filtered out.\n",
    "def filter_list(l):\n",
    "    return [a for a in l if not isinstance(a, str)]\n",
    "    \n",
    "lst = [1,2,'aasf','1','123',123]\n",
    "filter_list(lst)\n"
   ]
  },
  {
   "cell_type": "code",
   "execution_count": 104,
   "id": "6a61d0eb-8016-49aa-a6bb-a5d32fcfbff5",
   "metadata": {},
   "outputs": [],
   "source": [
    "lower_limit = 440\n",
    "k = 2"
   ]
  },
  {
   "cell_type": "code",
   "execution_count": 105,
   "id": "1358534d-f127-4f7a-aa67-c7ddddd67674",
   "metadata": {},
   "outputs": [
    {
     "name": "stdout",
     "output_type": "stream",
     "text": [
      "n = 441\n",
      "Squares = [144, 441]\n",
      "lower_limit_root = 21\n"
     ]
    }
   ],
   "source": [
    "from math import sqrt, ceil, floor\n",
    "n = None\n",
    "lower_limit_root = ceil(sqrt(lower_limit))\n",
    "if lower_limit_root**2 == lower_limit:\n",
    "    lower_limit_root +=1\n",
    "while True:\n",
    "    min_perf_sq = lower_limit_root **2\n",
    "    if '0' in str(min_perf_sq):\n",
    "        lower_limit_root +=1\n",
    "        continue\n",
    "\n",
    "    min_combination = sorted([i for i in str(min_perf_sq)])\n",
    "    max_combination = sorted([i for i in str(min_perf_sq)], reverse=True)\n",
    "\n",
    "    min_root = ceil(sqrt(int(''.join(min_combination))))\n",
    "    max_root = floor(sqrt(int(''.join(max_combination))))\n",
    "    k_calc = 0\n",
    "    sqs = []\n",
    "\n",
    "    for i in range(min_root, max_root+1):\n",
    "        if sorted([n for n in str(i**2)]) == min_combination:\n",
    "            sqs.append(i**2)\n",
    "            k_calc +=1\n",
    "    if k_calc == k:\n",
    "        n = sorted(sqs)[-1]\n",
    "        break\n",
    "        \n",
    "    lower_limit_root +=1\n",
    "\n",
    "\n",
    "    \n",
    "print(f'n = {n}')\n",
    "print(f'Squares = {sqs}')\n",
    "print(f'lower_limit_root = {lower_limit_root}')"
   ]
  },
  {
   "cell_type": "code",
   "execution_count": 98,
   "id": "f97aef0f-80a5-4470-9fa9-04aa90c588f1",
   "metadata": {},
   "outputs": [
    {
     "data": {
      "text/plain": [
       "16.0"
      ]
     },
     "execution_count": 98,
     "metadata": {},
     "output_type": "execute_result"
    }
   ],
   "source": [
    "sqrt(256)"
   ]
  },
  {
   "cell_type": "code",
   "execution_count": null,
   "id": "eaed8d78-21b3-4d2f-bb63-588121ad2d57",
   "metadata": {},
   "outputs": [],
   "source": []
  },
  {
   "cell_type": "code",
   "execution_count": null,
   "id": "d6120146-5558-4baf-8317-b95211ba231e",
   "metadata": {},
   "outputs": [],
   "source": []
  },
  {
   "cell_type": "code",
   "execution_count": null,
   "id": "268fac34-63ca-48af-8e53-93d0f57c12fd",
   "metadata": {},
   "outputs": [],
   "source": []
  },
  {
   "cell_type": "code",
   "execution_count": 3,
   "id": "b3220361-ee4a-495c-a8d4-ef1f6f16e112",
   "metadata": {},
   "outputs": [
    {
     "name": "stdout",
     "output_type": "stream",
     "text": [
      "lower_limit_root = 15\n",
      "min_perf_sq = 225\n",
      "min_combination = ['2', '2', '5']\n",
      "max_combination = ['5', '2', '2']\n",
      "min_root = 15\n",
      "max_root = 22\n",
      "k_calc = 1\n"
     ]
    }
   ],
   "source": [
    "print(f'lower_limit_root = {lower_limit_root}\\n\\\n",
    "min_perf_sq = {min_perf_sq}\\n\\\n",
    "min_combination = {min_combination}\\n\\\n",
    "max_combination = {max_combination}\\n\\\n",
    "min_root = {min_root}\\n\\\n",
    "max_root = {max_root}\\n\\\n",
    "k_calc = {k_calc}')"
   ]
  },
  {
   "cell_type": "code",
   "execution_count": null,
   "id": "129af3a7-23e6-4381-a1f3-0024c4f129a2",
   "metadata": {},
   "outputs": [],
   "source": []
  }
 ],
 "metadata": {
  "kernelspec": {
   "display_name": "Python 3 (ipykernel)",
   "language": "python",
   "name": "python3"
  },
  "language_info": {
   "codemirror_mode": {
    "name": "ipython",
    "version": 3
   },
   "file_extension": ".py",
   "mimetype": "text/x-python",
   "name": "python",
   "nbconvert_exporter": "python",
   "pygments_lexer": "ipython3",
   "version": "3.11.1"
  }
 },
 "nbformat": 4,
 "nbformat_minor": 5
}

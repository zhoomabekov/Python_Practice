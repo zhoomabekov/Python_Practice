{
 "cells": [
  {
   "cell_type": "code",
   "execution_count": 6,
   "id": "f48940f7",
   "metadata": {
    "tags": []
   },
   "outputs": [
    {
     "name": "stdout",
     "output_type": "stream",
     "text": [
      "b'<p>Bacon ipsum dolor amet shoulder doner tenderloin ham hock short loin chicken swine.  Jowl shankle ball tip, sirloin shank spare ribs ham.  Cow frankfurter bacon doner chislic drumstick pork loin ground round bresaola porchetta swine.  Chicken bacon jowl tail andouille.</p>\\n<p>Bacon boudin turducken, rump cupim corned beef pork meatloaf.  Picanha kevin boudin biltong buffalo, tenderloin leberkas.  Sausage swine bacon biltong drumstick landjaeger burgdoggen filet mignon strip steak doner jowl meatball.  Beef ribs short loin short ribs, meatloaf pork belly chicken tenderloin landjaeger jowl turkey pig filet mignon kielbasa alcatra salami.</p>\\n<p>Venison pork loin boudin meatloaf pig tail burgdoggen chuck porchetta short loin pork belly.  Tongue shankle beef ribs, short loin capicola prosciutto sausage pork belly hamburger ham ham hock chuck spare ribs beef turducken.  Filet mignon hamburger tri-tip tongue burgdoggen.  Flank ribeye andouille fatback beef ribs, pastrami salami jowl pancetta t-bone sirloin drumstick shoulder corned beef.  Frankfurter swine drumstick sirloin boudin kevin pork loin landjaeger beef ribs ground round andouille ribeye chicken leberkas turducken.  Landjaeger pancetta picanha t-bone, sirloin beef short ribs venison flank andouille.  Sirloin rump andouille kevin fatback corned beef ground round beef tri-tip turducken.</p>\\n'\n",
      "\n",
      "200\n"
     ]
    }
   ],
   "source": [
    "import requests\n",
    "\n",
    "r = requests.get('https://baconipsum.com/api/?type=all-meat&paras=3&start-with-lorem=1&format=html')\n",
    "\n",
    "print(r.content)\n",
    "print()\n",
    "print(r.status_code)"
   ]
  },
  {
   "cell_type": "code",
   "execution_count": 4,
   "id": "83a3fcad",
   "metadata": {
    "tags": []
   },
   "outputs": [
    {
     "name": "stdout",
     "output_type": "stream",
     "text": [
      "b'<!doctype html><html><head><meta charset=\"utf-8\"/><meta name=\"viewport\" content=\"width=device-width,initial-scale=1\"/><link rel=\"apple-touch-icon\" sizes=\"180x180\" href=\"/favicon/apple-touch-icon.png\"><link rel=\"icon\" href=\"/favicon/favicon.svg\" sizes=\"32x32\" type=\"image/svg+xml\"><link rel=\"icon\" href=\"/favicon/favicon-32x32.png\" sizes=\"32x32\" type=\"image/png\"><link rel=\"icon\" href=\"/favicon/favicon.ico\" sizes=\"32x32\" type=\" image/x-icon\"><link rel=\"manifest\" href=\"/favicon/manifest.json\"><link rel=\"mask-icon\" href=\"/favicon/safari-pinned-tab.svg\" color=\"#000000\"><link rel=\"stylesheet\" href=\"https://cdnjs.cloudflare.com/ajax/libs/animate.css/3.5.2/animate.min.css\"/><meta name=\"msapplication-TileColor\" content=\"#2b5797\"><meta name=\"theme-color\" content=\"#ffffff\"><script type=\"text/javascript\" src=\"/ruxitagentjs_ICA27NVfgjqrux_10255221104040649.js\" data-dtconfig=\"rid=RID_877240681|rpid=1421691979|domain=jusan.kz|reportUrl=/rb_48c88acb-e2e8-45ae-9fc4-1656eaf32570|app=06c17601f7c05d56|rcdec=1209600000|featureHash=ICA27NVfgjqrux|vcv=2|rdnt=1|uxrgce=1|bp=3|srmcrv=10|cuc=uchimf76|mel=100000|dpvc=1|ssv=4|lastModification=1671529441075|dtVersion=10255221104040649|srmcrl=1|tp=500,50,0,1|uxdcw=1500|agentUri=/ruxitagentjs_ICA27NVfgjqrux_10255221104040649.js\"></script><script>!function(e,t,a,n,g){e[n]=e[n]||[],e[n].push({\"gtm.start\":(new Date).getTime(),event:\"gtm.js\"});var m=t.getElementsByTagName(a)[0],r=t.createElement(a);r.async=!0,r.src=\"https://www.googletagmanager.com/gtm.js?id=GTM-WVP33JP\",m.parentNode.insertBefore(r,m)}(window,document,\"script\",\"dataLayer\")</script><link rel=\"stylesheet\" href=\"https://bot-contact.p-s.kz/widget/prod/jysanbank/css/app.css\"><script defer=\"defer\" src=\"/static/js/main.75161c24.js\"></script><link href=\"/static/css/main.630891e9.css\" rel=\"stylesheet\"></head><body><noscript><iframe src=\"https://www.googletagmanager.com/ns.html?id=GTM-WVP33JP\" height=\"0\" width=\"0\" style=\"display:none;visibility:hidden\"></iframe></noscript><noscript>\\xd0\\x92\\xd0\\xb0\\xd0\\xbc \\xd0\\xbd\\xd0\\xb5\\xd0\\xbe\\xd0\\xb1\\xd1\\x85\\xd0\\xbe\\xd0\\xb4\\xd0\\xb8\\xd0\\xbc\\xd0\\xbe \\xd0\\xb2\\xd0\\xba\\xd0\\xbb\\xd1\\x8e\\xd1\\x87\\xd0\\xb8\\xd1\\x82\\xd1\\x8c JavaScript, \\xd1\\x87\\xd1\\x82\\xd0\\xbe\\xd0\\xb1\\xd1\\x8b \\xd0\\xb7\\xd0\\xb0\\xd0\\xbf\\xd1\\x83\\xd1\\x81\\xd1\\x82\\xd0\\xb8\\xd1\\x82\\xd1\\x8c \\xd1\\x8d\\xd1\\x82\\xd0\\xbe \\xd0\\xbf\\xd1\\x80\\xd0\\xb8\\xd0\\xbb\\xd0\\xbe\\xd0\\xb6\\xd0\\xb5\\xd0\\xbd\\xd0\\xb8\\xd0\\xb5.</noscript><div id=\"root\"></div></body></html>'\n"
     ]
    },
    {
     "name": "stderr",
     "output_type": "stream",
     "text": [
      "C:\\Users\\galym.zhumabekov\\Anaconda3\\lib\\site-packages\\urllib3\\connectionpool.py:1013: InsecureRequestWarning: Unverified HTTPS request is being made to host 'jusan.kz'. Adding certificate verification is strongly advised. See: https://urllib3.readthedocs.io/en/1.26.x/advanced-usage.html#ssl-warnings\n",
      "  warnings.warn(\n"
     ]
    }
   ],
   "source": [
    "r = requests.get('https://baconipsum.com/api/?type=meat-and-filler')\n",
    "print(r.content)"
   ]
  },
  {
   "cell_type": "code",
   "execution_count": 5,
   "id": "fab3bd1d",
   "metadata": {
    "tags": []
   },
   "outputs": [
    {
     "name": "stderr",
     "output_type": "stream",
     "text": [
      "C:\\Users\\galym.zhumabekov\\Anaconda3\\lib\\site-packages\\urllib3\\connectionpool.py:1013: InsecureRequestWarning: Unverified HTTPS request is being made to host 'jusan.kz'. Adding certificate verification is strongly advised. See: https://urllib3.readthedocs.io/en/1.26.x/advanced-usage.html#ssl-warnings\n",
      "  warnings.warn(\n"
     ]
    },
    {
     "ename": "JSONDecodeError",
     "evalue": "Expecting value: line 1 column 1 (char 0)",
     "output_type": "error",
     "traceback": [
      "\u001b[1;31m---------------------------------------------------------------------------\u001b[0m",
      "\u001b[1;31mJSONDecodeError\u001b[0m                           Traceback (most recent call last)",
      "\u001b[1;32mC:\\Users\\GALYM~1.ZHU\\AppData\\Local\\Temp/ipykernel_1220/1458622927.py\u001b[0m in \u001b[0;36m<module>\u001b[1;34m\u001b[0m\n\u001b[0;32m      4\u001b[0m \u001b[1;33m\u001b[0m\u001b[0m\n\u001b[0;32m      5\u001b[0m \u001b[0mr\u001b[0m \u001b[1;33m=\u001b[0m \u001b[0mrequests\u001b[0m\u001b[1;33m.\u001b[0m\u001b[0mget\u001b[0m\u001b[1;33m(\u001b[0m\u001b[1;34m'https://jusan.kz/exchange-rates'\u001b[0m\u001b[1;33m,\u001b[0m \u001b[0mverify\u001b[0m\u001b[1;33m=\u001b[0m\u001b[1;32mFalse\u001b[0m\u001b[1;33m)\u001b[0m\u001b[1;33m\u001b[0m\u001b[1;33m\u001b[0m\u001b[0m\n\u001b[1;32m----> 6\u001b[1;33m \u001b[0mtexts\u001b[0m \u001b[1;33m=\u001b[0m \u001b[0mjson\u001b[0m\u001b[1;33m.\u001b[0m\u001b[0mloads\u001b[0m\u001b[1;33m(\u001b[0m\u001b[0mr\u001b[0m\u001b[1;33m.\u001b[0m\u001b[0mcontent\u001b[0m\u001b[1;33m)\u001b[0m  \u001b[1;31m# делаем из полученных байтов Python-объект для удобной работы\u001b[0m\u001b[1;33m\u001b[0m\u001b[1;33m\u001b[0m\u001b[0m\n\u001b[0m\u001b[0;32m      7\u001b[0m \u001b[0mprint\u001b[0m\u001b[1;33m(\u001b[0m\u001b[0mtype\u001b[0m\u001b[1;33m(\u001b[0m\u001b[0mtexts\u001b[0m\u001b[1;33m)\u001b[0m\u001b[1;33m)\u001b[0m  \u001b[1;31m# проверяем тип сконвертированных данных\u001b[0m\u001b[1;33m\u001b[0m\u001b[1;33m\u001b[0m\u001b[0m\n\u001b[0;32m      8\u001b[0m \u001b[1;33m\u001b[0m\u001b[0m\n",
      "\u001b[1;32m~\\Anaconda3\\lib\\json\\__init__.py\u001b[0m in \u001b[0;36mloads\u001b[1;34m(s, cls, object_hook, parse_float, parse_int, parse_constant, object_pairs_hook, **kw)\u001b[0m\n\u001b[0;32m    344\u001b[0m             \u001b[0mparse_int\u001b[0m \u001b[1;32mis\u001b[0m \u001b[1;32mNone\u001b[0m \u001b[1;32mand\u001b[0m \u001b[0mparse_float\u001b[0m \u001b[1;32mis\u001b[0m \u001b[1;32mNone\u001b[0m \u001b[1;32mand\u001b[0m\u001b[1;33m\u001b[0m\u001b[1;33m\u001b[0m\u001b[0m\n\u001b[0;32m    345\u001b[0m             parse_constant is None and object_pairs_hook is None and not kw):\n\u001b[1;32m--> 346\u001b[1;33m         \u001b[1;32mreturn\u001b[0m \u001b[0m_default_decoder\u001b[0m\u001b[1;33m.\u001b[0m\u001b[0mdecode\u001b[0m\u001b[1;33m(\u001b[0m\u001b[0ms\u001b[0m\u001b[1;33m)\u001b[0m\u001b[1;33m\u001b[0m\u001b[1;33m\u001b[0m\u001b[0m\n\u001b[0m\u001b[0;32m    347\u001b[0m     \u001b[1;32mif\u001b[0m \u001b[0mcls\u001b[0m \u001b[1;32mis\u001b[0m \u001b[1;32mNone\u001b[0m\u001b[1;33m:\u001b[0m\u001b[1;33m\u001b[0m\u001b[1;33m\u001b[0m\u001b[0m\n\u001b[0;32m    348\u001b[0m         \u001b[0mcls\u001b[0m \u001b[1;33m=\u001b[0m \u001b[0mJSONDecoder\u001b[0m\u001b[1;33m\u001b[0m\u001b[1;33m\u001b[0m\u001b[0m\n",
      "\u001b[1;32m~\\Anaconda3\\lib\\json\\decoder.py\u001b[0m in \u001b[0;36mdecode\u001b[1;34m(self, s, _w)\u001b[0m\n\u001b[0;32m    335\u001b[0m \u001b[1;33m\u001b[0m\u001b[0m\n\u001b[0;32m    336\u001b[0m         \"\"\"\n\u001b[1;32m--> 337\u001b[1;33m         \u001b[0mobj\u001b[0m\u001b[1;33m,\u001b[0m \u001b[0mend\u001b[0m \u001b[1;33m=\u001b[0m \u001b[0mself\u001b[0m\u001b[1;33m.\u001b[0m\u001b[0mraw_decode\u001b[0m\u001b[1;33m(\u001b[0m\u001b[0ms\u001b[0m\u001b[1;33m,\u001b[0m \u001b[0midx\u001b[0m\u001b[1;33m=\u001b[0m\u001b[0m_w\u001b[0m\u001b[1;33m(\u001b[0m\u001b[0ms\u001b[0m\u001b[1;33m,\u001b[0m \u001b[1;36m0\u001b[0m\u001b[1;33m)\u001b[0m\u001b[1;33m.\u001b[0m\u001b[0mend\u001b[0m\u001b[1;33m(\u001b[0m\u001b[1;33m)\u001b[0m\u001b[1;33m)\u001b[0m\u001b[1;33m\u001b[0m\u001b[1;33m\u001b[0m\u001b[0m\n\u001b[0m\u001b[0;32m    338\u001b[0m         \u001b[0mend\u001b[0m \u001b[1;33m=\u001b[0m \u001b[0m_w\u001b[0m\u001b[1;33m(\u001b[0m\u001b[0ms\u001b[0m\u001b[1;33m,\u001b[0m \u001b[0mend\u001b[0m\u001b[1;33m)\u001b[0m\u001b[1;33m.\u001b[0m\u001b[0mend\u001b[0m\u001b[1;33m(\u001b[0m\u001b[1;33m)\u001b[0m\u001b[1;33m\u001b[0m\u001b[1;33m\u001b[0m\u001b[0m\n\u001b[0;32m    339\u001b[0m         \u001b[1;32mif\u001b[0m \u001b[0mend\u001b[0m \u001b[1;33m!=\u001b[0m \u001b[0mlen\u001b[0m\u001b[1;33m(\u001b[0m\u001b[0ms\u001b[0m\u001b[1;33m)\u001b[0m\u001b[1;33m:\u001b[0m\u001b[1;33m\u001b[0m\u001b[1;33m\u001b[0m\u001b[0m\n",
      "\u001b[1;32m~\\Anaconda3\\lib\\json\\decoder.py\u001b[0m in \u001b[0;36mraw_decode\u001b[1;34m(self, s, idx)\u001b[0m\n\u001b[0;32m    353\u001b[0m             \u001b[0mobj\u001b[0m\u001b[1;33m,\u001b[0m \u001b[0mend\u001b[0m \u001b[1;33m=\u001b[0m \u001b[0mself\u001b[0m\u001b[1;33m.\u001b[0m\u001b[0mscan_once\u001b[0m\u001b[1;33m(\u001b[0m\u001b[0ms\u001b[0m\u001b[1;33m,\u001b[0m \u001b[0midx\u001b[0m\u001b[1;33m)\u001b[0m\u001b[1;33m\u001b[0m\u001b[1;33m\u001b[0m\u001b[0m\n\u001b[0;32m    354\u001b[0m         \u001b[1;32mexcept\u001b[0m \u001b[0mStopIteration\u001b[0m \u001b[1;32mas\u001b[0m \u001b[0merr\u001b[0m\u001b[1;33m:\u001b[0m\u001b[1;33m\u001b[0m\u001b[1;33m\u001b[0m\u001b[0m\n\u001b[1;32m--> 355\u001b[1;33m             \u001b[1;32mraise\u001b[0m \u001b[0mJSONDecodeError\u001b[0m\u001b[1;33m(\u001b[0m\u001b[1;34m\"Expecting value\"\u001b[0m\u001b[1;33m,\u001b[0m \u001b[0ms\u001b[0m\u001b[1;33m,\u001b[0m \u001b[0merr\u001b[0m\u001b[1;33m.\u001b[0m\u001b[0mvalue\u001b[0m\u001b[1;33m)\u001b[0m \u001b[1;32mfrom\u001b[0m \u001b[1;32mNone\u001b[0m\u001b[1;33m\u001b[0m\u001b[1;33m\u001b[0m\u001b[0m\n\u001b[0m\u001b[0;32m    356\u001b[0m         \u001b[1;32mreturn\u001b[0m \u001b[0mobj\u001b[0m\u001b[1;33m,\u001b[0m \u001b[0mend\u001b[0m\u001b[1;33m\u001b[0m\u001b[1;33m\u001b[0m\u001b[0m\n",
      "\u001b[1;31mJSONDecodeError\u001b[0m: Expecting value: line 1 column 1 (char 0)"
     ]
    }
   ],
   "source": [
    "import requests\n",
    "import json  # импортируем необходимую библиотеку\n",
    " \n",
    " \n",
    "r = requests.get('https://jusan.kz/exchange-rates', verify=False)\n",
    "texts = json.loads(r.content)  # делаем из полученных байтов Python-объект для удобной работы\n",
    "print(type(texts))  # проверяем тип сконвертированных данных\n",
    " \n",
    "for text in texts:  # выводим полученный текст. Но для того чтобы он влез в консоль, оставим только первые 50 символов.\n",
    "    print(text[:50], '\\n')"
   ]
  },
  {
   "cell_type": "code",
   "execution_count": 15,
   "id": "a58a3dee",
   "metadata": {},
   "outputs": [
    {
     "name": "stdout",
     "output_type": "stream",
     "text": [
      "current_user_url: https://api.github.com/user\n",
      "current_user_authorizations_html_url: https://github.com/settings/connections/applications{/client_id}\n",
      "authorizations_url: https://api.github.com/authorizations\n",
      "code_search_url: https://api.github.com/search/code?q={query}{&page,per_page,sort,order}\n",
      "commit_search_url: https://api.github.com/search/commits?q={query}{&page,per_page,sort,order}\n",
      "emails_url: https://api.github.com/user/emails\n",
      "emojis_url: https://api.github.com/emojis\n",
      "events_url: https://api.github.com/events\n",
      "feeds_url: https://api.github.com/feeds\n",
      "followers_url: https://api.github.com/user/followers\n",
      "following_url: https://api.github.com/user/following{/target}\n",
      "gists_url: https://api.github.com/gists{/gist_id}\n",
      "hub_url: https://api.github.com/hub\n",
      "issue_search_url: https://api.github.com/search/issues?q={query}{&page,per_page,sort,order}\n",
      "issues_url: https://api.github.com/issues\n",
      "keys_url: https://api.github.com/user/keys\n",
      "label_search_url: https://api.github.com/search/labels?q={query}&repository_id={repository_id}{&page,per_page}\n",
      "notifications_url: https://api.github.com/notifications\n",
      "organization_url: https://api.github.com/orgs/{org}\n",
      "organization_repositories_url: https://api.github.com/orgs/{org}/repos{?type,page,per_page,sort}\n",
      "organization_teams_url: https://api.github.com/orgs/{org}/teams\n",
      "public_gists_url: https://api.github.com/gists/public\n",
      "rate_limit_url: https://api.github.com/rate_limit\n",
      "repository_url: https://api.github.com/repos/{owner}/{repo}\n",
      "repository_search_url: https://api.github.com/search/repositories?q={query}{&page,per_page,sort,order}\n",
      "current_user_repositories_url: https://api.github.com/user/repos{?type,page,per_page,sort}\n",
      "starred_url: https://api.github.com/user/starred{/owner}{/repo}\n",
      "starred_gists_url: https://api.github.com/gists/starred\n",
      "topic_search_url: https://api.github.com/search/topics?q={query}{&page,per_page}\n",
      "user_url: https://api.github.com/users/{user}\n",
      "user_organizations_url: https://api.github.com/user/orgs\n",
      "user_repositories_url: https://api.github.com/users/{user}/repos{?type,page,per_page,sort}\n",
      "user_search_url: https://api.github.com/search/users?q={query}{&page,per_page,sort,order}\n"
     ]
    }
   ],
   "source": [
    "import requests\n",
    "import json\n",
    " \n",
    " \n",
    "r = requests.get('https://api.github.com')\n",
    " \n",
    "dicts = json.loads(r.content)  # делаем из полученных байтов Python-объект для удобной работы\n",
    "# print(type(dicts))\n",
    "\n",
    "for k, v in dicts.items():\n",
    "    print(f'{k}: {v}')"
   ]
  },
  {
   "cell_type": "code",
   "execution_count": 16,
   "id": "cf4717e9",
   "metadata": {
    "scrolled": true
   },
   "outputs": [
    {
     "name": "stdout",
     "output_type": "stream",
     "text": [
      "b'{\\n  \"args\": {}, \\n  \"data\": \"\", \\n  \"files\": {}, \\n  \"form\": {\\n    \"key\": \"value\"\\n  }, \\n  \"headers\": {\\n    \"Accept\": \"*/*\", \\n    \"Accept-Encoding\": \"gzip, deflate, br\", \\n    \"Content-Length\": \"9\", \\n    \"Content-Type\": \"application/x-www-form-urlencoded\", \\n    \"Host\": \"httpbin.org\", \\n    \"User-Agent\": \"python-requests/2.26.0\", \\n    \"X-Amzn-Trace-Id\": \"Root=1-63a0b3ba-0d6029e64e7c36ef533f34d1\"\\n  }, \\n  \"json\": null, \\n  \"origin\": \"95.56.111.52\", \\n  \"url\": \"https://httpbin.org/post\"\\n}\\n'\n"
     ]
    }
   ],
   "source": [
    "import requests\n",
    " \n",
    " \n",
    "r = requests.post('https://httpbin.org/post', data = {'key':'value'})  # отправляем POST-запрос\n",
    "print(r.content)  # содержимое ответа и его обработка происходит так же, как и с GET-запросами, разницы никакой нет"
   ]
  },
  {
   "cell_type": "code",
   "execution_count": 20,
   "id": "ea226f61",
   "metadata": {},
   "outputs": [
    {
     "name": "stdout",
     "output_type": "stream",
     "text": [
      "Incididunt prosciutto elit drumstick veniam irure.  Corned beef meatball pork, spare ribs cow doner exercitation leberkas andouille ex ea voluptate.  Nostrud occaecat shankle tenderloin capicola minim chislic.  Cupim andouille dolor tenderloin.  Pancetta irure deserunt, jowl aliqua doner shankle turkey ham hock shank dolor venison est.  Pork belly pariatur tri-tip meatball lorem pastrami doner pork kielbasa short loin spare ribs sint ad aliqua bacon.\n"
     ]
    }
   ],
   "source": [
    "'''Напишите программу, которая отправляет запрос на генерацию случайных текстов \n",
    "(используйте этот сервис): https://baconipsum.com/api/ \n",
    "Выведите первый из сгенерированных текстов.'''\n",
    "\n",
    "import requests\n",
    "import json\n",
    "\n",
    "r = requests.get('https://baconipsum.com/api/?type=meat-and-filler')\n",
    "texts = json.loads(r.content)\n",
    "\n",
    "print(texts[1])\n"
   ]
  },
  {
   "cell_type": "code",
   "execution_count": null,
   "id": "e04971ac",
   "metadata": {},
   "outputs": [],
   "source": []
  },
  {
   "cell_type": "code",
   "execution_count": null,
   "id": "102cb775",
   "metadata": {},
   "outputs": [],
   "source": []
  },
  {
   "cell_type": "code",
   "execution_count": null,
   "id": "25bc89ef",
   "metadata": {},
   "outputs": [],
   "source": []
  },
  {
   "cell_type": "code",
   "execution_count": 1,
   "id": "5aaa2ab0",
   "metadata": {},
   "outputs": [
    {
     "name": "stdout",
     "output_type": "stream",
     "text": [
      "['Welcome to Python.org']\n"
     ]
    }
   ],
   "source": [
    "import requests  # импортируем наш знакомый модуль\n",
    "import lxml.html\n",
    "from lxml import etree\n",
    " \n",
    " \n",
    " \n",
    "html = requests.get('https://www.python.org/').content  # получим html главной странички официального сайта python\n",
    " \n",
    "tree = lxml.html.document_fromstring(html)\n",
    "title = tree.xpath('/html/head/title/text()')  # забираем текст тега <title> из тега <head>, который лежит в свою очередь внутри тега <html> (в этом невидимом теге <head> у нас хранится основная информация о страничке, её название и инструкции по отображению в браузере) \n",
    " \n",
    "print(title)  # выводим полученный заголовок страницы "
   ]
  },
  {
   "cell_type": "code",
   "execution_count": null,
   "id": "2f662d12",
   "metadata": {},
   "outputs": [],
   "source": [
    "//*[@id=\"content\"]/div/section/div[3]/div[1]/div/ul/li[1]"
   ]
  },
  {
   "cell_type": "code",
   "execution_count": 71,
   "id": "b1a94747",
   "metadata": {},
   "outputs": [
    {
     "name": "stdout",
     "output_type": "stream",
     "text": [
      "2022-12-08T19:16:00.000003+00:00\n",
      "Introducing a New Sliding Scale Membership\n",
      "2022-12-06T22:58:00.000001+00:00\n",
      "Python 3.11.1, 3.10.9, 3.9.16, 3.8.16, 3.7.16, and 3.12.0 alpha 3 are now available\n",
      "2022-11-23T23:47:00.000002+00:00\n",
      "Where is the PSF?\n",
      "2022-11-15T13:06:00.000001+00:00\n",
      "Python 3.12.0 alpha 2 released\n",
      "2022-11-07T17:30:00+00:00\n",
      "It's time for our annual year-end PSF fundraiser and membership drive 🎉\n"
     ]
    }
   ],
   "source": [
    "import requests  # импортируем наш знакомый модуль\n",
    "import lxml.html\n",
    "from lxml import etree\n",
    "from datetime import datetime\n",
    "\n",
    " \n",
    "# создадим объект ElementTree. Он возвращается функцией parse() \n",
    "tree = etree.parse('Welcome to Python.org.html', lxml.html.HTMLParser())  # попытаемся спарсить наш файл с помощью html-парсера. Сам html - это то, что мы скачали и поместили в папку из браузера.\n",
    " \n",
    "ul = tree.findall('/body/div/div[3]/div/section/div[3]/div[1]/div/ul/li')  # помещаем в аргумент метода findall скопированный xpath. Здесь мы получим все элементы списка новостей. (Все заголовки и их даты)  \n",
    " \n",
    "# создаём цикл, в котором мы будем выводить название каждого элемента из списка\n",
    "for li in ul:\n",
    "    t = li.find('time')\n",
    "    dt = t.get('datetime')\n",
    "    # print(datetime.strptime(dt)date())\n",
    "    # # ft = datetime.strptime(dt, '%d/%m/%y')\n",
    "    print(dt)\n",
    "    \n",
    "\n",
    "    a = li.find('a')  # в каждом элементе находим, где хранится заголовок новости. У нас это тег <a>. Т. е. гиперссылка, на которую нужно нажать, чтобы перейти на страницу с новостью. (Гиперссылки в html это всегда тег <a>)\n",
    "    print(a.text)  # из этого тега забираем текст, это и будет нашим названием"
   ]
  },
  {
   "cell_type": "code",
   "execution_count": 57,
   "id": "a213fb66-d559-4bea-9568-3c846c9f8339",
   "metadata": {},
   "outputs": [],
   "source": [
    "# Примечание: для получения атрибутов тега (т. е. его дополнительных параметров) используется метод .get(<имя атрибута>).\n",
    "\n"
   ]
  },
  {
   "cell_type": "code",
   "execution_count": 2,
   "id": "ad6e8d87-20cd-4c39-a03b-ad830880a840",
   "metadata": {},
   "outputs": [
    {
     "name": "stdout",
     "output_type": "stream",
     "text": [
      "2022-12-08T19:16:00.000003+00:00 Introducing a New Sliding Scale Membership\n",
      "2022-12-06T22:58:00.000001+00:00 Python 3.11.1, 3.10.9, 3.9.16, 3.8.16, 3.7.16, and 3.12.0 alpha 3 are now available\n",
      "2022-11-23T23:47:00.000002+00:00 Where is the PSF?\n",
      "2022-11-15T13:06:00.000001+00:00 Python 3.12.0 alpha 2 released\n",
      "2022-11-07T17:30:00+00:00 It's time for our annual year-end PSF fundraiser and membership drive 🎉\n"
     ]
    }
   ],
   "source": [
    "import requests # импортируем наш знакомый модуль\n",
    "import lxml.html\n",
    "from lxml import etree\n",
    " \n",
    " \n",
    "html = requests.get('https://www.python.org/').content # получим html главной странички официального сайта python\n",
    " \n",
    "# создадим объект ElementTree. Он возвращается функцией parse() \n",
    "tree = etree.parse('Welcome to Python.org.html', lxml.html.HTMLParser()) # попытаемся спарсить наш файл с помощью html парсера\n",
    " \n",
    "ul = tree.findall('body/div/div[3]/div/section/div[3]/div[1]/div/ul/li') # помещаем в аргумент методу findall скопированный xpath\n",
    " \n",
    "# создаём цикл в котором мы будем выводить название каждого элемента из списка\n",
    "for li in ul:\n",
    "    a = li.find('a') # в каждом элементе находим где хранится название. У нас это тег <a>\n",
    "    time = li.find('time')\n",
    "    print(time.get('datetime'), a.text) # из этого тега забираем текст - это и будет нашим названием"
   ]
  },
  {
   "cell_type": "code",
   "execution_count": 28,
   "id": "580e7c65-9a46-465f-b202-26b056671d98",
   "metadata": {},
   "outputs": [
    {
     "name": "stdout",
     "output_type": "stream",
     "text": [
      "Как сделать в nginx root путь, который находится в другом контейнере докера? https://ru.stackoverflow.com/questions/1480933/%d0%9a%d0%b0%d0%ba-%d1%81%d0%b4%d0%b5%d0%bb%d0%b0%d1%82%d1%8c-%d0%b2-nginx-root-%d0%bf%d1%83%d1%82%d1%8c-%d0%ba%d0%be%d1%82%d0%be%d1%80%d1%8b%d0%b9-%d0%bd%d0%b0%d1%85%d0%be%d0%b4%d0%b8%d1%82%d1%81%d1%8f-%d0%b2-%d0%b4%d1%80%d1%83%d0%b3%d0%be%d0%bc-%d0%ba%d0%be%d0%bd%d1%82%d0%b5%d0%b9%d0%bd%d0%b5%d1%80%d0%b5-%d0%b4%d0%be%d0%ba%d0%b5%d1%80%d0%b0\n",
      "Сделать 2 иконки из одной https://ru.stackoverflow.com/questions/1480559/%d0%a1%d0%b4%d0%b5%d0%bb%d0%b0%d1%82%d1%8c-2-%d0%b8%d0%ba%d0%be%d0%bd%d0%ba%d0%b8-%d0%b8%d0%b7-%d0%be%d0%b4%d0%bd%d0%be%d0%b9\n",
      "Выходит ошибка character maps to <undefined> https://ru.stackoverflow.com/questions/1480730/%d0%92%d1%8b%d1%85%d0%be%d0%b4%d0%b8%d1%82-%d0%be%d1%88%d0%b8%d0%b1%d0%ba%d0%b0-character-maps-to-undefined\n",
      "Перстал работать код. В чем может быть ошибка? https://ru.stackoverflow.com/questions/1480931/%d0%9f%d0%b5%d1%80%d1%81%d1%82%d0%b0%d0%bb-%d1%80%d0%b0%d0%b1%d0%be%d1%82%d0%b0%d1%82%d1%8c-%d0%ba%d0%be%d0%b4-%d0%92-%d1%87%d0%b5%d0%bc-%d0%bc%d0%be%d0%b6%d0%b5%d1%82-%d0%b1%d1%8b%d1%82%d1%8c-%d0%be%d1%88%d0%b8%d0%b1%d0%ba%d0%b0\n",
      "Возможно ли реализовать расcтановку блоков за счет css https://ru.stackoverflow.com/questions/1480930/%d0%92%d0%be%d0%b7%d0%bc%d0%be%d0%b6%d0%bd%d0%be-%d0%bb%d0%b8-%d1%80%d0%b5%d0%b0%d0%bb%d0%b8%d0%b7%d0%be%d0%b2%d0%b0%d1%82%d1%8c-%d1%80%d0%b0%d1%81c%d1%82%d0%b0%d0%bd%d0%be%d0%b2%d0%ba%d1%83-%d0%b1%d0%bb%d0%be%d0%ba%d0%be%d0%b2-%d0%b7%d0%b0-%d1%81%d1%87%d0%b5%d1%82-css\n",
      "Фатальная ошибка SDL2 https://ru.stackoverflow.com/questions/1480929/%d0%a4%d0%b0%d1%82%d0%b0%d0%bb%d1%8c%d0%bd%d0%b0%d1%8f-%d0%be%d1%88%d0%b8%d0%b1%d0%ba%d0%b0-sdl2\n",
      "Закрывается ли сокет автоматически при закрытии программы https://ru.stackoverflow.com/questions/1480928/%d0%97%d0%b0%d0%ba%d1%80%d1%8b%d0%b2%d0%b0%d0%b5%d1%82%d1%81%d1%8f-%d0%bb%d0%b8-%d1%81%d0%be%d0%ba%d0%b5%d1%82-%d0%b0%d0%b2%d1%82%d0%be%d0%bc%d0%b0%d1%82%d0%b8%d1%87%d0%b5%d1%81%d0%ba%d0%b8-%d0%bf%d1%80%d0%b8-%d0%b7%d0%b0%d0%ba%d1%80%d1%8b%d1%82%d0%b8%d0%b8-%d0%bf%d1%80%d0%be%d0%b3%d1%80%d0%b0%d0%bc%d0%bc%d1%8b\n",
      "Как передать данные CSS измененные JS при отправке формы https://ru.stackoverflow.com/questions/1480894/%d0%9a%d0%b0%d0%ba-%d0%bf%d0%b5%d1%80%d0%b5%d0%b4%d0%b0%d1%82%d1%8c-%d0%b4%d0%b0%d0%bd%d0%bd%d1%8b%d0%b5-css-%d0%b8%d0%b7%d0%bc%d0%b5%d0%bd%d0%b5%d0%bd%d0%bd%d1%8b%d0%b5-js-%d0%bf%d1%80%d0%b8-%d0%be%d1%82%d0%bf%d1%80%d0%b0%d0%b2%d0%ba%d0%b5-%d1%84%d0%be%d1%80%d0%bc%d1%8b\n",
      "Как исправить ошибку Non Type object is not subscriptable? https://ru.stackoverflow.com/questions/1480917/%d0%9a%d0%b0%d0%ba-%d0%b8%d1%81%d0%bf%d1%80%d0%b0%d0%b2%d0%b8%d1%82%d1%8c-%d0%be%d1%88%d0%b8%d0%b1%d0%ba%d1%83-non-type-object-is-not-subscriptable\n",
      "gulp del clean gulfile.mjs https://ru.stackoverflow.com/questions/1480923/gulp-del-clean-gulfile-mjs\n",
      "Не прибавляется переменная golda + 1 при вводе определенного текста, python https://ru.stackoverflow.com/questions/1480922/%d0%9d%d0%b5-%d0%bf%d1%80%d0%b8%d0%b1%d0%b0%d0%b2%d0%bb%d1%8f%d0%b5%d1%82%d1%81%d1%8f-%d0%bf%d0%b5%d1%80%d0%b5%d0%bc%d0%b5%d0%bd%d0%bd%d0%b0%d1%8f-golda-1-%d0%bf%d1%80%d0%b8-%d0%b2%d0%b2%d0%be%d0%b4%d0%b5-%d0%be%d0%bf%d1%80%d0%b5%d0%b4%d0%b5%d0%bb%d0%b5%d0%bd%d0%bd%d0%be%d0%b3%d0%be-%d1%82%d0%b5%d0%ba%d1%81%d1%82%d0%b0-python\n",
      "Можно ли как-то регистрировать пользователей по рефферальным ссылкам в ТГ (группа или бот)? https://ru.stackoverflow.com/questions/1480854/%d0%9c%d0%be%d0%b6%d0%bd%d0%be-%d0%bb%d0%b8-%d0%ba%d0%b0%d0%ba-%d1%82%d0%be-%d1%80%d0%b5%d0%b3%d0%b8%d1%81%d1%82%d1%80%d0%b8%d1%80%d0%be%d0%b2%d0%b0%d1%82%d1%8c-%d0%bf%d0%be%d0%bb%d1%8c%d0%b7%d0%be%d0%b2%d0%b0%d1%82%d0%b5%d0%bb%d0%b5%d0%b9-%d0%bf%d0%be-%d1%80%d0%b5%d1%84%d1%84%d0%b5%d1%80%d0%b0%d0%bb%d1%8c%d0%bd%d1%8b%d0%bc-%d1%81%d1%81%d1%8b%d0%bb%d0%ba%d0%b0%d0%bc-%d0%b2-%d0%a2%d0%93-%d0%b3%d1%80%d1%83%d0%bf%d0%bf\n",
      "Как в битрикс отправлять имейлы при нажатии кнопки? https://ru.stackoverflow.com/questions/1473228/%d0%9a%d0%b0%d0%ba-%d0%b2-%d0%b1%d0%b8%d1%82%d1%80%d0%b8%d0%ba%d1%81-%d0%be%d1%82%d0%bf%d1%80%d0%b0%d0%b2%d0%bb%d1%8f%d1%82%d1%8c-%d0%b8%d0%bc%d0%b5%d0%b9%d0%bb%d1%8b-%d0%bf%d1%80%d0%b8-%d0%bd%d0%b0%d0%b6%d0%b0%d1%82%d0%b8%d0%b8-%d0%ba%d0%bd%d0%be%d0%bf%d0%ba%d0%b8\n",
      "Несколько тяжелых методов средствами UniRx https://ru.stackoverflow.com/questions/1480920/%d0%9d%d0%b5%d1%81%d0%ba%d0%be%d0%bb%d1%8c%d0%ba%d0%be-%d1%82%d1%8f%d0%b6%d0%b5%d0%bb%d1%8b%d1%85-%d0%bc%d0%b5%d1%82%d0%be%d0%b4%d0%be%d0%b2-%d1%81%d1%80%d0%b5%d0%b4%d1%81%d1%82%d0%b2%d0%b0%d0%bc%d0%b8-unirx\n",
      "Где хранить строковые ресурсы в Angular https://ru.stackoverflow.com/questions/1480919/%d0%93%d0%b4%d0%b5-%d1%85%d1%80%d0%b0%d0%bd%d0%b8%d1%82%d1%8c-%d1%81%d1%82%d1%80%d0%be%d0%ba%d0%be%d0%b2%d1%8b%d0%b5-%d1%80%d0%b5%d1%81%d1%83%d1%80%d1%81%d1%8b-%d0%b2-angular\n",
      "Ошибка Access violation at address https://ru.stackoverflow.com/questions/1480918/%d0%9e%d1%88%d0%b8%d0%b1%d0%ba%d0%b0-access-violation-at-address\n",
      "Не отображаются объекты на сцене QGraphicsScene https://ru.stackoverflow.com/questions/1475074/%d0%9d%d0%b5-%d0%be%d1%82%d0%be%d0%b1%d1%80%d0%b0%d0%b6%d0%b0%d1%8e%d1%82%d1%81%d1%8f-%d0%be%d0%b1%d1%8a%d0%b5%d0%ba%d1%82%d1%8b-%d0%bd%d0%b0-%d1%81%d1%86%d0%b5%d0%bd%d0%b5-qgraphicsscene\n",
      "Подключение css к html в Java https://ru.stackoverflow.com/questions/743242/%d0%9f%d0%be%d0%b4%d0%ba%d0%bb%d1%8e%d1%87%d0%b5%d0%bd%d0%b8%d0%b5-css-%d0%ba-html-%d0%b2-java\n",
      "Как в телеграмм боте сделать функцию, которая будет отправлять фото в чат без предварительного сообщения от пользователя? https://ru.stackoverflow.com/questions/1480916/%d0%9a%d0%b0%d0%ba-%d0%b2-%d1%82%d0%b5%d0%bb%d0%b5%d0%b3%d1%80%d0%b0%d0%bc%d0%bc-%d0%b1%d0%be%d1%82%d0%b5-%d1%81%d0%b4%d0%b5%d0%bb%d0%b0%d1%82%d1%8c-%d1%84%d1%83%d0%bd%d0%ba%d1%86%d0%b8%d1%8e-%d0%ba%d0%be%d1%82%d0%be%d1%80%d0%b0%d1%8f-%d0%b1%d1%83%d0%b4%d0%b5%d1%82-%d0%be%d1%82%d0%bf%d1%80%d0%b0%d0%b2%d0%bb%d1%8f%d1%82%d1%8c-%d1%84%d0%be%d1%82%d0%be-%d0%b2-%d1%87%d0%b0%d1%82-%d0%b1%d0%b5%d0%b7-%d0%bf%d1%80\n",
      "Не может найти элемент Message: no such element: Unable to locate element: https://ru.stackoverflow.com/questions/1480673/%d0%9d%d0%b5-%d0%bc%d0%be%d0%b6%d0%b5%d1%82-%d0%bd%d0%b0%d0%b9%d1%82%d0%b8-%d1%8d%d0%bb%d0%b5%d0%bc%d0%b5%d0%bd%d1%82-message-no-such-element-unable-to-locate-element\n",
      "You cannot call this from an async context - use a thread or sync_to_async https://ru.stackoverflow.com/questions/1475444/you-cannot-call-this-from-an-async-context-use-a-thread-or-sync-to-async\n",
      "Как корректно отправить форму через Ajax в Django, если товары выведены через цикл в шаблоне https://ru.stackoverflow.com/questions/1480029/%d0%9a%d0%b0%d0%ba-%d0%ba%d0%be%d1%80%d1%80%d0%b5%d0%ba%d1%82%d0%bd%d0%be-%d0%be%d1%82%d0%bf%d1%80%d0%b0%d0%b2%d0%b8%d1%82%d1%8c-%d1%84%d0%be%d1%80%d0%bc%d1%83-%d1%87%d0%b5%d1%80%d0%b5%d0%b7-ajax-%d0%b2-django-%d0%b5%d1%81%d0%bb%d0%b8-%d1%82%d0%be%d0%b2%d0%b0%d1%80%d1%8b-%d0%b2%d1%8b%d0%b2%d0%b5%d0%b4%d0%b5%d0%bd%d1%8b-%d1%87%d0%b5%d1%80%d0%b5%d0%b7-%d1%86%d0%b8\n",
      "Проблема выполнения mysql запроса https://ru.stackoverflow.com/questions/1480613/%d0%9f%d1%80%d0%be%d0%b1%d0%bb%d0%b5%d0%bc%d0%b0-%d0%b2%d1%8b%d0%bf%d0%be%d0%bb%d0%bd%d0%b5%d0%bd%d0%b8%d1%8f-mysql-%d0%b7%d0%b0%d0%bf%d1%80%d0%be%d1%81%d0%b0\n",
      "Как создать связи таблиц Microsoft Access с помощью Visual Basic for Applications? https://ru.stackoverflow.com/questions/1480911/%d0%9a%d0%b0%d0%ba-%d1%81%d0%be%d0%b7%d0%b4%d0%b0%d1%82%d1%8c-%d1%81%d0%b2%d1%8f%d0%b7%d0%b8-%d1%82%d0%b0%d0%b1%d0%bb%d0%b8%d1%86-microsoft-access-%d1%81-%d0%bf%d0%be%d0%bc%d0%be%d1%89%d1%8c%d1%8e-visual-basic-for-application\n",
      "найти минимальное число, большее данного, такое что оно делиться на произведение своих цифр без остатка https://ru.stackoverflow.com/questions/1480659/%d0%bd%d0%b0%d0%b9%d1%82%d0%b8-%d0%bc%d0%b8%d0%bd%d0%b8%d0%bc%d0%b0%d0%bb%d1%8c%d0%bd%d0%be%d0%b5-%d1%87%d0%b8%d1%81%d0%bb%d0%be-%d0%b1%d0%be%d0%bb%d1%8c%d1%88%d0%b5%d0%b5-%d0%b4%d0%b0%d0%bd%d0%bd%d0%be%d0%b3%d0%be-%d1%82%d0%b0%d0%ba%d0%be%d0%b5-%d1%87%d1%82%d0%be-%d0%be%d0%bd%d0%be-%d0%b4%d0%b5%d0%bb%d0%b8%d1%82%d1%8c%d1%81%d1%8f-%d0%bd%d0%b0-%d0%bf%d1%80%d0%be%d0%b8%d0%b7%d0%b2%d0%b5%d0%b4%d0%b5%d0%bd%d0%b8%d0%b5\n",
      "как сделать заголовки h1 и h2 одинаковые по размеру? https://ru.stackoverflow.com/questions/1480468/%d0%ba%d0%b0%d0%ba-%d1%81%d0%b4%d0%b5%d0%bb%d0%b0%d1%82%d1%8c-%d0%b7%d0%b0%d0%b3%d0%be%d0%bb%d0%be%d0%b2%d0%ba%d0%b8-h1-%d0%b8-h2-%d0%be%d0%b4%d0%b8%d0%bd%d0%b0%d0%ba%d0%be%d0%b2%d1%8b%d0%b5-%d0%bf%d0%be-%d1%80%d0%b0%d0%b7%d0%bc%d0%b5%d1%80%d1%83\n",
      "Как заставить телеграм бота работать со множеством пользователей? https://ru.stackoverflow.com/questions/1480907/%d0%9a%d0%b0%d0%ba-%d0%b7%d0%b0%d1%81%d1%82%d0%b0%d0%b2%d0%b8%d1%82%d1%8c-%d1%82%d0%b5%d0%bb%d0%b5%d0%b3%d1%80%d0%b0%d0%bc-%d0%b1%d0%be%d1%82%d0%b0-%d1%80%d0%b0%d0%b1%d0%be%d1%82%d0%b0%d1%82%d1%8c-%d1%81%d0%be-%d0%bc%d0%bd%d0%be%d0%b6%d0%b5%d1%81%d1%82%d0%b2%d0%be%d0%bc-%d0%bf%d0%be%d0%bb%d1%8c%d0%b7%d0%be%d0%b2%d0%b0%d1%82%d0%b5%d0%bb%d0%b5%d0%b9\n",
      "Как верно подбирать viewBox, размеры https://ru.stackoverflow.com/questions/1480365/%d0%9a%d0%b0%d0%ba-%d0%b2%d0%b5%d1%80%d0%bd%d0%be-%d0%bf%d0%be%d0%b4%d0%b1%d0%b8%d1%80%d0%b0%d1%82%d1%8c-viewbox-%d1%80%d0%b0%d0%b7%d0%bc%d0%b5%d1%80%d1%8b\n",
      "Необъявленный идентификатор https://ru.stackoverflow.com/questions/1480899/%d0%9d%d0%b5%d0%be%d0%b1%d1%8a%d1%8f%d0%b2%d0%bb%d0%b5%d0%bd%d0%bd%d1%8b%d0%b9-%d0%b8%d0%b4%d0%b5%d0%bd%d1%82%d0%b8%d1%84%d0%b8%d0%ba%d0%b0%d1%82%d0%be%d1%80\n",
      "Microsoft Access SQL запрос на создание формы с несколькими таблицами https://ru.stackoverflow.com/questions/1480891/microsoft-access-sql-%d0%b7%d0%b0%d0%bf%d1%80%d0%be%d1%81-%d0%bd%d0%b0-%d1%81%d0%be%d0%b7%d0%b4%d0%b0%d0%bd%d0%b8%d0%b5-%d1%84%d0%be%d1%80%d0%bc%d1%8b-%d1%81-%d0%bd%d0%b5%d1%81%d0%ba%d0%be%d0%bb%d1%8c%d0%ba%d0%b8%d0%bc%d0%b8-%d1%82%d0%b0%d0%b1%d0%bb%d0%b8%d1%86%d0%b0%d0%bc%d0%b8\n",
      "Текстовый редактор https://ru.stackoverflow.com/questions/1480905/%d0%a2%d0%b5%d0%ba%d1%81%d1%82%d0%be%d0%b2%d1%8b%d0%b9-%d1%80%d0%b5%d0%b4%d0%b0%d0%ba%d1%82%d0%be%d1%80\n",
      "Как найти все вершины графа между двумя указанными вершинами? https://ru.stackoverflow.com/questions/1480903/%d0%9a%d0%b0%d0%ba-%d0%bd%d0%b0%d0%b9%d1%82%d0%b8-%d0%b2%d1%81%d0%b5-%d0%b2%d0%b5%d1%80%d1%88%d0%b8%d0%bd%d1%8b-%d0%b3%d1%80%d0%b0%d1%84%d0%b0-%d0%bc%d0%b5%d0%b6%d0%b4%d1%83-%d0%b4%d0%b2%d1%83%d0%bc%d1%8f-%d1%83%d0%ba%d0%b0%d0%b7%d0%b0%d0%bd%d0%bd%d1%8b%d0%bc%d0%b8-%d0%b2%d0%b5%d1%80%d1%88%d0%b8%d0%bd%d0%b0%d0%bc%d0%b8\n",
      "MongoDB Ошибка: zsh: illegal hardware instruction mongod - KALI NETHUNTER https://ru.stackoverflow.com/questions/1480904/mongodb-%d0%9e%d1%88%d0%b8%d0%b1%d0%ba%d0%b0-zsh-illegal-hardware-instruction-mongod-kali-nethunter\n",
      "Отображение в Android-приложении страницы из блоков разных типов https://ru.stackoverflow.com/questions/1480901/%d0%9e%d1%82%d0%be%d0%b1%d1%80%d0%b0%d0%b6%d0%b5%d0%bd%d0%b8%d0%b5-%d0%b2-android-%d0%bf%d1%80%d0%b8%d0%bb%d0%be%d0%b6%d0%b5%d0%bd%d0%b8%d0%b8-%d1%81%d1%82%d1%80%d0%b0%d0%bd%d0%b8%d1%86%d1%8b-%d0%b8%d0%b7-%d0%b1%d0%bb%d0%be%d0%ba%d0%be%d0%b2-%d1%80%d0%b0%d0%b7%d0%bd%d1%8b%d1%85-%d1%82%d0%b8%d0%bf%d0%be%d0%b2\n",
      "Работа с диспетчером задач https://ru.stackoverflow.com/questions/1480900/%d0%a0%d0%b0%d0%b1%d0%be%d1%82%d0%b0-%d1%81-%d0%b4%d0%b8%d1%81%d0%bf%d0%b5%d1%82%d1%87%d0%b5%d1%80%d0%be%d0%bc-%d0%b7%d0%b0%d0%b4%d0%b0%d1%87\n",
      "Не могу Авторизоваться в Gmal с помощи Selenium c#. \"Не удалось войти в аккаунт Возможно, этот браузер или приложение небезопасны.\" https://ru.stackoverflow.com/questions/1244871/%d0%9d%d0%b5-%d0%bc%d0%be%d0%b3%d1%83-%d0%90%d0%b2%d1%82%d0%be%d1%80%d0%b8%d0%b7%d0%be%d0%b2%d0%b0%d1%82%d1%8c%d1%81%d1%8f-%d0%b2-gmal-%d1%81-%d0%bf%d0%be%d0%bc%d0%be%d1%89%d0%b8-selenium-c-%d0%9d%d0%b5-%d1%83%d0%b4%d0%b0%d0%bb%d0%be%d1%81%d1%8c-%d0%b2%d0%be%d0%b9%d1%82%d0%b8-%d0%b2-%d0%b0%d0%ba%d0%ba%d0%b0%d1%83%d0%bd%d1%82\n",
      "Regex. Не выполнять условие, если подстрока — в кавычках https://ru.stackoverflow.com/questions/1020894/regex-%d0%9d%d0%b5-%d0%b2%d1%8b%d0%bf%d0%be%d0%bb%d0%bd%d1%8f%d1%82%d1%8c-%d1%83%d1%81%d0%bb%d0%be%d0%b2%d0%b8%d0%b5-%d0%b5%d1%81%d0%bb%d0%b8-%d0%bf%d0%be%d0%b4%d1%81%d1%82%d1%80%d0%be%d0%ba%d0%b0-%d0%b2-%d0%ba%d0%b0%d0%b2%d1%8b%d1%87%d0%ba%d0%b0%d1%85\n",
      "При попытке запуска бота выдаёт ошибку \"Error: Cannot find module 'node:events'\". discord.js https://ru.stackoverflow.com/questions/1480886/%d0%9f%d1%80%d0%b8-%d0%bf%d0%be%d0%bf%d1%8b%d1%82%d0%ba%d0%b5-%d0%b7%d0%b0%d0%bf%d1%83%d1%81%d0%ba%d0%b0-%d0%b1%d0%be%d1%82%d0%b0-%d0%b2%d1%8b%d0%b4%d0%b0%d1%91%d1%82-%d0%be%d1%88%d0%b8%d0%b1%d0%ba%d1%83-error-cannot-find-module-nodeevents\n",
      "Добавить код, который определяет кто из лошадей победил в соревновании и увеличивает значение поля wins этой лошади на единицу https://ru.stackoverflow.com/questions/1480896/%d0%94%d0%be%d0%b1%d0%b0%d0%b2%d0%b8%d1%82%d1%8c-%d0%ba%d0%be%d0%b4-%d0%ba%d0%be%d1%82%d0%be%d1%80%d1%8b%d0%b9-%d0%be%d0%bf%d1%80%d0%b5%d0%b4%d0%b5%d0%bb%d1%8f%d0%b5%d1%82-%d0%ba%d1%82%d0%be-%d0%b8%d0%b7-%d0%bb%d0%be%d1%88%d0%b0%d0%b4%d0%b5%d0%b9-%d0%bf%d0%be%d0%b1%d0%b5%d0%b4%d0%b8%d0%bb-%d0%b2-%d1%81%d0%be%d1%80%d0%b5%d0%b2%d0%bd%d0%be%d0%b2%d0%b0%d0%bd%d0%b8%d0%b8-%d0%b8-%d1%83%d0%b2%d0%b5%d0%bb%d0%b8%d1%87%d0%b8\n",
      "Canvas GraphicsContext2D перестаёт рисовать картинку https://ru.stackoverflow.com/questions/1476509/canvas-graphicscontext2d-%d0%bf%d0%b5%d1%80%d0%b5%d1%81%d1%82%d0%b0%d1%91%d1%82-%d1%80%d0%b8%d1%81%d0%be%d0%b2%d0%b0%d1%82%d1%8c-%d0%ba%d0%b0%d1%80%d1%82%d0%b8%d0%bd%d0%ba%d1%83\n",
      "Запретить доступ к WireGuard UI на порту 5000 из интернета https://ru.stackoverflow.com/questions/1480895/%d0%97%d0%b0%d0%bf%d1%80%d0%b5%d1%82%d0%b8%d1%82%d1%8c-%d0%b4%d0%be%d1%81%d1%82%d1%83%d0%bf-%d0%ba-wireguard-ui-%d0%bd%d0%b0-%d0%bf%d0%be%d1%80%d1%82%d1%83-5000-%d0%b8%d0%b7-%d0%b8%d0%bd%d1%82%d0%b5%d1%80%d0%bd%d0%b5%d1%82%d0%b0\n",
      "Как настроить повторение выполнения функции https://ru.stackoverflow.com/questions/1480356/%d0%9a%d0%b0%d0%ba-%d0%bd%d0%b0%d1%81%d1%82%d1%80%d0%be%d0%b8%d1%82%d1%8c-%d0%bf%d0%be%d0%b2%d1%82%d0%be%d1%80%d0%b5%d0%bd%d0%b8%d0%b5-%d0%b2%d1%8b%d0%bf%d0%be%d0%bb%d0%bd%d0%b5%d0%bd%d0%b8%d1%8f-%d1%84%d1%83%d0%bd%d0%ba%d1%86%d0%b8%d0%b8\n",
      "Как сделать скачивание и установку циферблата на часах програмно? https://ru.stackoverflow.com/questions/1480893/%d0%9a%d0%b0%d0%ba-%d1%81%d0%b4%d0%b5%d0%bb%d0%b0%d1%82%d1%8c-%d1%81%d0%ba%d0%b0%d1%87%d0%b8%d0%b2%d0%b0%d0%bd%d0%b8%d0%b5-%d0%b8-%d1%83%d1%81%d1%82%d0%b0%d0%bd%d0%be%d0%b2%d0%ba%d1%83-%d1%86%d0%b8%d1%84%d0%b5%d1%80%d0%b1%d0%bb%d0%b0%d1%82%d0%b0-%d0%bd%d0%b0-%d1%87%d0%b0%d1%81%d0%b0%d1%85-%d0%bf%d1%80%d0%be%d0%b3%d1%80%d0%b0%d0%bc%d0%bd%d0%be\n",
      "Кнопка \"Запустить\" не работает, в чем ошибка и как ее решить https://ru.stackoverflow.com/questions/1480811/%d0%9a%d0%bd%d0%be%d0%bf%d0%ba%d0%b0-%d0%97%d0%b0%d0%bf%d1%83%d1%81%d1%82%d0%b8%d1%82%d1%8c-%d0%bd%d0%b5-%d1%80%d0%b0%d0%b1%d0%be%d1%82%d0%b0%d0%b5%d1%82-%d0%b2-%d1%87%d0%b5%d0%bc-%d0%be%d1%88%d0%b8%d0%b1%d0%ba%d0%b0-%d0%b8-%d0%ba%d0%b0%d0%ba-%d0%b5%d0%b5-%d1%80%d0%b5%d1%88%d0%b8%d1%82%d1%8c\n",
      "Как запустить 2 проекта laravel на одном компьютере? https://ru.stackoverflow.com/questions/1480892/%d0%9a%d0%b0%d0%ba-%d0%b7%d0%b0%d0%bf%d1%83%d1%81%d1%82%d0%b8%d1%82%d1%8c-2-%d0%bf%d1%80%d0%be%d0%b5%d0%ba%d1%82%d0%b0-laravel-%d0%bd%d0%b0-%d0%be%d0%b4%d0%bd%d0%be%d0%bc-%d0%ba%d0%be%d0%bc%d0%bf%d1%8c%d1%8e%d1%82%d0%b5%d1%80%d0%b5\n",
      "Try ... except в TeleramBot https://ru.stackoverflow.com/questions/1480341/try-except-%d0%b2-telerambot\n",
      "MySQL. Ошибка с SSL https://ru.stackoverflow.com/questions/1480889/mysql-%d0%9e%d1%88%d0%b8%d0%b1%d0%ba%d0%b0-%d1%81-ssl\n",
      "Убрать подчеркивание в Entry Xamarin Forms https://ru.stackoverflow.com/questions/1480888/%d0%a3%d0%b1%d1%80%d0%b0%d1%82%d1%8c-%d0%bf%d0%be%d0%b4%d1%87%d0%b5%d1%80%d0%ba%d0%b8%d0%b2%d0%b0%d0%bd%d0%b8%d0%b5-%d0%b2-entry-xamarin-forms\n",
      "Задачка на Python: Формат ввода Одно натуральное число N, Формат вывода N строк с фразой: \"Купи слона!\" https://ru.stackoverflow.com/questions/1480883/%d0%97%d0%b0%d0%b4%d0%b0%d1%87%d0%ba%d0%b0-%d0%bd%d0%b0-python-%d0%a4%d0%be%d1%80%d0%bc%d0%b0%d1%82-%d0%b2%d0%b2%d0%be%d0%b4%d0%b0-%d0%9e%d0%b4%d0%bd%d0%be-%d0%bd%d0%b0%d1%82%d1%83%d1%80%d0%b0%d0%bb%d1%8c%d0%bd%d0%be%d0%b5-%d1%87%d0%b8%d1%81%d0%bb%d0%be-n-%d0%a4%d0%be%d1%80%d0%bc%d0%b0%d1%82-%d0%b2%d1%8b%d0%b2%d0%be%d0%b4%d0%b0-n-%d1%81%d1%82%d1%80%d0%be%d0%ba\n",
      "Шифр Цезаря в питон. Латиница работает (ave, Caesar!), кириллица - нет https://ru.stackoverflow.com/questions/1480861/%d0%a8%d0%b8%d1%84%d1%80-%d0%a6%d0%b5%d0%b7%d0%b0%d1%80%d1%8f-%d0%b2-%d0%bf%d0%b8%d1%82%d0%be%d0%bd-%d0%9b%d0%b0%d1%82%d0%b8%d0%bd%d0%b8%d1%86%d0%b0-%d1%80%d0%b0%d0%b1%d0%be%d1%82%d0%b0%d0%b5%d1%82-ave-caesar-%d0%ba%d0%b8%d1%80%d0%b8%d0%bb%d0%bb%d0%b8%d1%86%d0%b0-%d0%bd%d0%b5%d1%82\n",
      "Как в пайтон взять прокси из файла по очереди для каждого потока https://ru.stackoverflow.com/questions/1480881/%d0%9a%d0%b0%d0%ba-%d0%b2-%d0%bf%d0%b0%d0%b9%d1%82%d0%be%d0%bd-%d0%b2%d0%b7%d1%8f%d1%82%d1%8c-%d0%bf%d1%80%d0%be%d0%ba%d1%81%d0%b8-%d0%b8%d0%b7-%d1%84%d0%b0%d0%b9%d0%bb%d0%b0-%d0%bf%d0%be-%d0%be%d1%87%d0%b5%d1%80%d0%b5%d0%b4%d0%b8-%d0%b4%d0%bb%d1%8f-%d0%ba%d0%b0%d0%b6%d0%b4%d0%be%d0%b3%d0%be-%d0%bf%d0%be%d1%82%d0%be%d0%ba%d0%b0\n",
      "Изменение прозрачности текста по нажатию на кнопку https://ru.stackoverflow.com/questions/1480812/%d0%98%d0%b7%d0%bc%d0%b5%d0%bd%d0%b5%d0%bd%d0%b8%d0%b5-%d0%bf%d1%80%d0%be%d0%b7%d1%80%d0%b0%d1%87%d0%bd%d0%be%d1%81%d1%82%d0%b8-%d1%82%d0%b5%d0%ba%d1%81%d1%82%d0%b0-%d0%bf%d0%be-%d0%bd%d0%b0%d0%b6%d0%b0%d1%82%d0%b8%d1%8e-%d0%bd%d0%b0-%d0%ba%d0%bd%d0%be%d0%bf%d0%ba%d1%83\n",
      "Можно ли определить как был создан shared_ptr: через make_shared или через конструктор? https://ru.stackoverflow.com/questions/1480339/%d0%9c%d0%be%d0%b6%d0%bd%d0%be-%d0%bb%d0%b8-%d0%be%d0%bf%d1%80%d0%b5%d0%b4%d0%b5%d0%bb%d0%b8%d1%82%d1%8c-%d0%ba%d0%b0%d0%ba-%d0%b1%d1%8b%d0%bb-%d1%81%d0%be%d0%b7%d0%b4%d0%b0%d0%bd-shared-ptr-%d1%87%d0%b5%d1%80%d0%b5%d0%b7-make-shared-%d0%b8%d0%bb%d0%b8-%d1%87%d0%b5%d1%80%d0%b5%d0%b7-%d0%ba%d0%be%d0%bd%d1%81%d1%82\n",
      "фоновый процесс завершается или что-то идет не так https://ru.stackoverflow.com/questions/1480465/%d1%84%d0%be%d0%bd%d0%be%d0%b2%d1%8b%d0%b9-%d0%bf%d1%80%d0%be%d1%86%d0%b5%d1%81%d1%81-%d0%b7%d0%b0%d0%b2%d0%b5%d1%80%d1%88%d0%b0%d0%b5%d1%82%d1%81%d1%8f-%d0%b8%d0%bb%d0%b8-%d1%87%d1%82%d0%be-%d1%82%d0%be-%d0%b8%d0%b4%d0%b5%d1%82-%d0%bd%d0%b5-%d1%82%d0%b0%d0%ba\n",
      "Как можно улучшить код змейки? https://ru.stackoverflow.com/questions/1480878/%d0%9a%d0%b0%d0%ba-%d0%bc%d0%be%d0%b6%d0%bd%d0%be-%d1%83%d0%bb%d1%83%d1%87%d1%88%d0%b8%d1%82%d1%8c-%d0%ba%d0%be%d0%b4-%d0%b7%d0%bc%d0%b5%d0%b9%d0%ba%d0%b8\n",
      "Как в wc_get_order(); вставьте идентификатор заказа, взяв его со страницы https://ru.stackoverflow.com/questions/1480877/%d0%9a%d0%b0%d0%ba-%d0%b2-wc-get-order-%d0%b2%d1%81%d1%82%d0%b0%d0%b2%d1%8c%d1%82%d0%b5-%d0%b8%d0%b4%d0%b5%d0%bd%d1%82%d0%b8%d1%84%d0%b8%d0%ba%d0%b0%d1%82%d0%be%d1%80-%d0%b7%d0%b0%d0%ba%d0%b0%d0%b7%d0%b0-%d0%b2%d0%b7%d1%8f%d0%b2-%d0%b5%d0%b3%d0%be-%d1%81%d0%be-%d1%81%d1%82%d1%80%d0%b0%d0%bd%d0%b8%d1%86%d1%8b\n",
      "django_telegram_login - oAuth telegram работает некорректно https://ru.stackoverflow.com/questions/1480876/django-telegram-login-oauth-telegram-%d1%80%d0%b0%d0%b1%d0%be%d1%82%d0%b0%d0%b5%d1%82-%d0%bd%d0%b5%d0%ba%d0%be%d1%80%d1%80%d0%b5%d0%ba%d1%82%d0%bd%d0%be\n",
      "Как «поставить на паузу» процесс чужой программы? https://ru.stackoverflow.com/questions/990880/%d0%9a%d0%b0%d0%ba-%d0%bf%d0%be%d1%81%d1%82%d0%b0%d0%b2%d0%b8%d1%82%d1%8c-%d0%bd%d0%b0-%d0%bf%d0%b0%d1%83%d0%b7%d1%83-%d0%bf%d1%80%d0%be%d1%86%d0%b5%d1%81%d1%81-%d1%87%d1%83%d0%b6%d0%be%d0%b9-%d0%bf%d1%80%d0%be%d0%b3%d1%80%d0%b0%d0%bc%d0%bc%d1%8b\n",
      "Передача определённых параметров из инициализатора родительского класса https://ru.stackoverflow.com/questions/1480809/%d0%9f%d0%b5%d1%80%d0%b5%d0%b4%d0%b0%d1%87%d0%b0-%d0%be%d0%bf%d1%80%d0%b5%d0%b4%d0%b5%d0%bb%d1%91%d0%bd%d0%bd%d1%8b%d1%85-%d0%bf%d0%b0%d1%80%d0%b0%d0%bc%d0%b5%d1%82%d1%80%d0%be%d0%b2-%d0%b8%d0%b7-%d0%b8%d0%bd%d0%b8%d1%86%d0%b8%d0%b0%d0%bb%d0%b8%d0%b7%d0%b0%d1%82%d0%be%d1%80%d0%b0-%d1%80%d0%be%d0%b4%d0%b8%d1%82%d0%b5%d0%bb%d1%8c%d1%81%d0%ba%d0%be%d0%b3%d0%be-%d0%ba%d0%bb%d0%b0%d1%81%d1%81%d0%b0\n",
      "Бесконечность в цикле С \"inf\" . Какая строчка кода уберет значение - inf https://ru.stackoverflow.com/questions/1480835/%d0%91%d0%b5%d1%81%d0%ba%d0%be%d0%bd%d0%b5%d1%87%d0%bd%d0%be%d1%81%d1%82%d1%8c-%d0%b2-%d1%86%d0%b8%d0%ba%d0%bb%d0%b5-%d0%a1-inf-%d0%9a%d0%b0%d0%ba%d0%b0%d1%8f-%d1%81%d1%82%d1%80%d0%be%d1%87%d0%ba%d0%b0-%d0%ba%d0%be%d0%b4%d0%b0-%d1%83%d0%b1%d0%b5%d1%80%d0%b5%d1%82-%d0%b7%d0%bd%d0%b0%d1%87%d0%b5%d0%bd%d0%b8%d0%b5-inf\n",
      "SQL запрос в MS access, который спрашивает название таблицы, а потом создает её с тем названием, которое ввел пользователь https://ru.stackoverflow.com/questions/1480874/sql-%d0%b7%d0%b0%d0%bf%d1%80%d0%be%d1%81-%d0%b2-ms-access-%d0%ba%d0%be%d1%82%d0%be%d1%80%d1%8b%d0%b9-%d1%81%d0%bf%d1%80%d0%b0%d1%88%d0%b8%d0%b2%d0%b0%d0%b5%d1%82-%d0%bd%d0%b0%d0%b7%d0%b2%d0%b0%d0%bd%d0%b8%d0%b5-%d1%82%d0%b0%d0%b1%d0%bb%d0%b8%d1%86%d1%8b-%d0%b0-%d0%bf%d0%be%d1%82%d0%be%d0%bc-%d1%81%d0%be%d0%b7%d0%b4%d0%b0%d0%b5%d1%82-%d0%b5%d1%91\n",
      "Передать функцию в аргумент декоратора disnake.py https://ru.stackoverflow.com/questions/1480873/%d0%9f%d0%b5%d1%80%d0%b5%d0%b4%d0%b0%d1%82%d1%8c-%d1%84%d1%83%d0%bd%d0%ba%d1%86%d0%b8%d1%8e-%d0%b2-%d0%b0%d1%80%d0%b3%d1%83%d0%bc%d0%b5%d0%bd%d1%82-%d0%b4%d0%b5%d0%ba%d0%be%d1%80%d0%b0%d1%82%d0%be%d1%80%d0%b0-disnake-py\n",
      "C# WPF. Фактический размер окна не соответствует заданному https://ru.stackoverflow.com/questions/882233/c-wpf-%d0%a4%d0%b0%d0%ba%d1%82%d0%b8%d1%87%d0%b5%d1%81%d0%ba%d0%b8%d0%b9-%d1%80%d0%b0%d0%b7%d0%bc%d0%b5%d1%80-%d0%be%d0%ba%d0%bd%d0%b0-%d0%bd%d0%b5-%d1%81%d0%be%d0%be%d1%82%d0%b2%d0%b5%d1%82%d1%81%d1%82%d0%b2%d1%83%d0%b5%d1%82-%d0%b7%d0%b0%d0%b4%d0%b0%d0%bd%d0%bd%d0%be%d0%bc%d1%83\n",
      "Относится ли алгоритм вычисления факториала к парадигме \"Разделяй и властвуй\"? https://ru.stackoverflow.com/questions/1480871/%d0%9e%d1%82%d0%bd%d0%be%d1%81%d0%b8%d1%82%d1%81%d1%8f-%d0%bb%d0%b8-%d0%b0%d0%bb%d0%b3%d0%be%d1%80%d0%b8%d1%82%d0%bc-%d0%b2%d1%8b%d1%87%d0%b8%d1%81%d0%bb%d0%b5%d0%bd%d0%b8%d1%8f-%d1%84%d0%b0%d0%ba%d1%82%d0%be%d1%80%d0%b8%d0%b0%d0%bb%d0%b0-%d0%ba-%d0%bf%d0%b0%d1%80%d0%b0%d0%b4%d0%b8%d0%b3%d0%bc%d0%b5-%d0%a0%d0%b0%d0%b7%d0%b4%d0%b5%d0%bb%d1%8f%d0%b9-%d0%b8-%d0%b2%d0%bb%d0%b0%d1%81%d1%82%d0%b2%d1%83%d0%b9\n",
      "Как заставить ресурсы кешироваться? https://ru.stackoverflow.com/questions/998603/%d0%9a%d0%b0%d0%ba-%d0%b7%d0%b0%d1%81%d1%82%d0%b0%d0%b2%d0%b8%d1%82%d1%8c-%d1%80%d0%b5%d1%81%d1%83%d1%80%d1%81%d1%8b-%d0%ba%d0%b5%d1%88%d0%b8%d1%80%d0%be%d0%b2%d0%b0%d1%82%d1%8c%d1%81%d1%8f\n",
      "В чем ошибка? Не работает условие в цикле https://ru.stackoverflow.com/questions/1480863/%d0%92-%d1%87%d0%b5%d0%bc-%d0%be%d1%88%d0%b8%d0%b1%d0%ba%d0%b0-%d0%9d%d0%b5-%d1%80%d0%b0%d0%b1%d0%be%d1%82%d0%b0%d0%b5%d1%82-%d1%83%d1%81%d0%bb%d0%be%d0%b2%d0%b8%d0%b5-%d0%b2-%d1%86%d0%b8%d0%ba%d0%bb%d0%b5\n",
      "Не отвечает com порт с arduino ide для платы nodemcu https://ru.stackoverflow.com/questions/1480869/%d0%9d%d0%b5-%d0%be%d1%82%d0%b2%d0%b5%d1%87%d0%b0%d0%b5%d1%82-com-%d0%bf%d0%be%d1%80%d1%82-%d1%81-arduino-ide-%d0%b4%d0%bb%d1%8f-%d0%bf%d0%bb%d0%b0%d1%82%d1%8b-nodemcu\n",
      "site.ru ведет на правильный сайт, www.site.ru ведет на другой сайт на том же хостинге https://ru.stackoverflow.com/questions/1480867/site-ru-%d0%b2%d0%b5%d0%b4%d0%b5%d1%82-%d0%bd%d0%b0-%d0%bf%d1%80%d0%b0%d0%b2%d0%b8%d0%bb%d1%8c%d0%bd%d1%8b%d0%b9-%d1%81%d0%b0%d0%b9%d1%82-www-site-ru-%d0%b2%d0%b5%d0%b4%d0%b5%d1%82-%d0%bd%d0%b0-%d0%b4%d1%80%d1%83%d0%b3%d0%be%d0%b9-%d1%81%d0%b0%d0%b9%d1%82-%d0%bd%d0%b0-%d1%82%d0%be%d0%bc-%d0%b6%d0%b5-%d1%85%d0%be%d1%81\n",
      "Что можно использовать для быстрого и неточного поиска в огромном количестве баз? https://ru.stackoverflow.com/questions/1480866/%d0%a7%d1%82%d0%be-%d0%bc%d0%be%d0%b6%d0%bd%d0%be-%d0%b8%d1%81%d0%bf%d0%be%d0%bb%d1%8c%d0%b7%d0%be%d0%b2%d0%b0%d1%82%d1%8c-%d0%b4%d0%bb%d1%8f-%d0%b1%d1%8b%d1%81%d1%82%d1%80%d0%be%d0%b3%d0%be-%d0%b8-%d0%bd%d0%b5%d1%82%d0%be%d1%87%d0%bd%d0%be%d0%b3%d0%be-%d0%bf%d0%be%d0%b8%d1%81%d0%ba%d0%b0-%d0%b2-%d0%be%d0%b3%d1%80%d0%be%d0%bc%d0%bd%d0%be%d0%bc-%d0%ba%d0%be%d0%bb%d0%b8%d1%87%d0%b5%d1%81%d1%82%d0%b2%d0%b5-%d0%b1%d0%b0%d0%b7\n",
      "Как закрыть форму через страницу, которая находится в форме? https://ru.stackoverflow.com/questions/1480775/%d0%9a%d0%b0%d0%ba-%d0%b7%d0%b0%d0%ba%d1%80%d1%8b%d1%82%d1%8c-%d1%84%d0%be%d1%80%d0%bc%d1%83-%d1%87%d0%b5%d1%80%d0%b5%d0%b7-%d1%81%d1%82%d1%80%d0%b0%d0%bd%d0%b8%d1%86%d1%83-%d0%ba%d0%be%d1%82%d0%be%d1%80%d0%b0%d1%8f-%d0%bd%d0%b0%d1%85%d0%be%d0%b4%d0%b8%d1%82%d1%81%d1%8f-%d0%b2-%d1%84%d0%be%d1%80%d0%bc%d0%b5\n",
      "Как вычитать несколько сообщений из websocket https://ru.stackoverflow.com/questions/1480864/%d0%9a%d0%b0%d0%ba-%d0%b2%d1%8b%d1%87%d0%b8%d1%82%d0%b0%d1%82%d1%8c-%d0%bd%d0%b5%d1%81%d0%ba%d0%be%d0%bb%d1%8c%d0%ba%d0%be-%d1%81%d0%be%d0%be%d0%b1%d1%89%d0%b5%d0%bd%d0%b8%d0%b9-%d0%b8%d0%b7-websocket\n",
      "Можно в Aiogram в FSM реализовать вызов состояния, не попрядку? https://ru.stackoverflow.com/questions/1480387/%d0%9c%d0%be%d0%b6%d0%bd%d0%be-%d0%b2-aiogram-%d0%b2-fsm-%d1%80%d0%b5%d0%b0%d0%bb%d0%b8%d0%b7%d0%be%d0%b2%d0%b0%d1%82%d1%8c-%d0%b2%d1%8b%d0%b7%d0%be%d0%b2-%d1%81%d0%be%d1%81%d1%82%d0%be%d1%8f%d0%bd%d0%b8%d1%8f-%d0%bd%d0%b5-%d0%bf%d0%be%d0%bf%d1%80%d1%8f%d0%b4%d0%ba%d1%83\n",
      "как скопировать часть массива c++ https://ru.stackoverflow.com/questions/1480848/%d0%ba%d0%b0%d0%ba-%d1%81%d0%ba%d0%be%d0%bf%d0%b8%d1%80%d0%be%d0%b2%d0%b0%d1%82%d1%8c-%d1%87%d0%b0%d1%81%d1%82%d1%8c-%d0%bc%d0%b0%d1%81%d1%81%d0%b8%d0%b2%d0%b0-c\n",
      "Как посредством Python внедрить собственный сетевой протокол? https://ru.stackoverflow.com/questions/1480834/%d0%9a%d0%b0%d0%ba-%d0%bf%d0%be%d1%81%d1%80%d0%b5%d0%b4%d1%81%d1%82%d0%b2%d0%be%d0%bc-python-%d0%b2%d0%bd%d0%b5%d0%b4%d1%80%d0%b8%d1%82%d1%8c-%d1%81%d0%be%d0%b1%d1%81%d1%82%d0%b2%d0%b5%d0%bd%d0%bd%d1%8b%d0%b9-%d1%81%d0%b5%d1%82%d0%b5%d0%b2%d0%be%d0%b9-%d0%bf%d1%80%d0%be%d1%82%d0%be%d0%ba%d0%be%d0%bb\n",
      "Как сделать условия с добавлением set в python? https://ru.stackoverflow.com/questions/1480597/%d0%9a%d0%b0%d0%ba-%d1%81%d0%b4%d0%b5%d0%bb%d0%b0%d1%82%d1%8c-%d1%83%d1%81%d0%bb%d0%be%d0%b2%d0%b8%d1%8f-%d1%81-%d0%b4%d0%be%d0%b1%d0%b0%d0%b2%d0%bb%d0%b5%d0%bd%d0%b8%d0%b5%d0%bc-set-%d0%b2-python\n",
      "Не находит блок до инспекции кода https://ru.stackoverflow.com/questions/1480852/%d0%9d%d0%b5-%d0%bd%d0%b0%d1%85%d0%be%d0%b4%d0%b8%d1%82-%d0%b1%d0%bb%d0%be%d0%ba-%d0%b4%d0%be-%d0%b8%d0%bd%d1%81%d0%bf%d0%b5%d0%ba%d1%86%d0%b8%d0%b8-%d0%ba%d0%be%d0%b4%d0%b0\n",
      "Сортировка QSortFilterProxyModel https://ru.stackoverflow.com/questions/1480191/%d0%a1%d0%be%d1%80%d1%82%d0%b8%d1%80%d0%be%d0%b2%d0%ba%d0%b0-qsortfilterproxymodel\n",
      "Не получается сделать запись в таблицу SQL https://ru.stackoverflow.com/questions/1480843/%d0%9d%d0%b5-%d0%bf%d0%be%d0%bb%d1%83%d1%87%d0%b0%d0%b5%d1%82%d1%81%d1%8f-%d1%81%d0%b4%d0%b5%d0%bb%d0%b0%d1%82%d1%8c-%d0%b7%d0%b0%d0%bf%d0%b8%d1%81%d1%8c-%d0%b2-%d1%82%d0%b0%d0%b1%d0%bb%d0%b8%d1%86%d1%83-sql\n",
      "При запуске программы я вижу ошибку: \"button\" is null https://ru.stackoverflow.com/questions/1480780/%d0%9f%d1%80%d0%b8-%d0%b7%d0%b0%d0%bf%d1%83%d1%81%d0%ba%d0%b5-%d0%bf%d1%80%d0%be%d0%b3%d1%80%d0%b0%d0%bc%d0%bc%d1%8b-%d1%8f-%d0%b2%d0%b8%d0%b6%d1%83-%d0%be%d1%88%d0%b8%d0%b1%d0%ba%d1%83-button-is-null\n",
      "Как вывести слово как ссылку из TextFields в шаблон Django https://ru.stackoverflow.com/questions/1480826/%d0%9a%d0%b0%d0%ba-%d0%b2%d1%8b%d0%b2%d0%b5%d1%81%d1%82%d0%b8-%d1%81%d0%bb%d0%be%d0%b2%d0%be-%d0%ba%d0%b0%d0%ba-%d1%81%d1%81%d1%8b%d0%bb%d0%ba%d1%83-%d0%b8%d0%b7-textfields-%d0%b2-%d1%88%d0%b0%d0%b1%d0%bb%d0%be%d0%bd-django\n",
      "Случайное перемещение точки в пространстве matplotlib https://ru.stackoverflow.com/questions/1480706/%d0%a1%d0%bb%d1%83%d1%87%d0%b0%d0%b9%d0%bd%d0%be%d0%b5-%d0%bf%d0%b5%d1%80%d0%b5%d0%bc%d0%b5%d1%89%d0%b5%d0%bd%d0%b8%d0%b5-%d1%82%d0%be%d1%87%d0%ba%d0%b8-%d0%b2-%d0%bf%d1%80%d0%be%d1%81%d1%82%d1%80%d0%b0%d0%bd%d1%81%d1%82%d0%b2%d0%b5-matplotlib\n",
      "Как сделать так чтобы при клике значение сохранялось в хранилище redux https://ru.stackoverflow.com/questions/1480839/%d0%9a%d0%b0%d0%ba-%d1%81%d0%b4%d0%b5%d0%bb%d0%b0%d1%82%d1%8c-%d1%82%d0%b0%d0%ba-%d1%87%d1%82%d0%be%d0%b1%d1%8b-%d0%bf%d1%80%d0%b8-%d0%ba%d0%bb%d0%b8%d0%ba%d0%b5-%d0%b7%d0%bd%d0%b0%d1%87%d0%b5%d0%bd%d0%b8%d0%b5-%d1%81%d0%be%d1%85%d1%80%d0%b0%d0%bd%d1%8f%d0%bb%d0%be%d1%81%d1%8c-%d0%b2-%d1%85%d1%80%d0%b0%d0%bd%d0%b8%d0%bb%d0%b8%d1%89%d0%b5-redux\n",
      "Определение четных и нечетных свойств в обьекте при помощи цикла FOR...IN https://ru.stackoverflow.com/questions/1475393/%d0%9e%d0%bf%d1%80%d0%b5%d0%b4%d0%b5%d0%bb%d0%b5%d0%bd%d0%b8%d0%b5-%d1%87%d0%b5%d1%82%d0%bd%d1%8b%d1%85-%d0%b8-%d0%bd%d0%b5%d1%87%d0%b5%d1%82%d0%bd%d1%8b%d1%85-%d1%81%d0%b2%d0%be%d0%b9%d1%81%d1%82%d0%b2-%d0%b2-%d0%be%d0%b1%d1%8c%d0%b5%d0%ba%d1%82%d0%b5-%d0%bf%d1%80%d0%b8-%d0%bf%d0%be%d0%bc%d0%be%d1%89%d0%b8-%d1%86%d0%b8%d0%ba%d0%bb%d0%b0-for-in\n",
      "Cценарии диалога Telegram Bot https://ru.stackoverflow.com/questions/1480816/c%d1%86%d0%b5%d0%bd%d0%b0%d1%80%d0%b8%d0%b8-%d0%b4%d0%b8%d0%b0%d0%bb%d0%be%d0%b3%d0%b0-telegram-bot\n",
      "str.replace к списку столбцов pd.df https://ru.stackoverflow.com/questions/1480799/str-replace-%d0%ba-%d1%81%d0%bf%d0%b8%d1%81%d0%ba%d1%83-%d1%81%d1%82%d0%be%d0%bb%d0%b1%d1%86%d0%be%d0%b2-pd-df\n",
      "Не запускается команда npm run watch https://ru.stackoverflow.com/questions/1480777/%d0%9d%d0%b5-%d0%b7%d0%b0%d0%bf%d1%83%d1%81%d0%ba%d0%b0%d0%b5%d1%82%d1%81%d1%8f-%d0%ba%d0%be%d0%bc%d0%b0%d0%bd%d0%b4%d0%b0-npm-run-watch\n",
      "Как использовать подсказки типов, чтобы VSCode не выделял их как ошибки? https://ru.stackoverflow.com/questions/1480813/%d0%9a%d0%b0%d0%ba-%d0%b8%d1%81%d0%bf%d0%be%d0%bb%d1%8c%d0%b7%d0%be%d0%b2%d0%b0%d1%82%d1%8c-%d0%bf%d0%be%d0%b4%d1%81%d0%ba%d0%b0%d0%b7%d0%ba%d0%b8-%d1%82%d0%b8%d0%bf%d0%be%d0%b2-%d1%87%d1%82%d0%be%d0%b1%d1%8b-vscode-%d0%bd%d0%b5-%d0%b2%d1%8b%d0%b4%d0%b5%d0%bb%d1%8f%d0%bb-%d0%b8%d1%85-%d0%ba%d0%b0%d0%ba-%d0%be%d1%88%d0%b8%d0%b1%d0%ba%d0%b8\n",
      "как реализовать это на питоне? https://ru.stackoverflow.com/questions/1480798/%d0%ba%d0%b0%d0%ba-%d1%80%d0%b5%d0%b0%d0%bb%d0%b8%d0%b7%d0%be%d0%b2%d0%b0%d1%82%d1%8c-%d1%8d%d1%82%d0%be-%d0%bd%d0%b0-%d0%bf%d0%b8%d1%82%d0%be%d0%bd%d0%b5\n",
      "Не работает код https://ru.stackoverflow.com/questions/1480741/%d0%9d%d0%b5-%d1%80%d0%b0%d0%b1%d0%be%d1%82%d0%b0%d0%b5%d1%82-%d0%ba%d0%be%d0%b4\n",
      "Как правильно изменить fill у svg по клику с помощью JavaScript? https://ru.stackoverflow.com/questions/1480733/%d0%9a%d0%b0%d0%ba-%d0%bf%d1%80%d0%b0%d0%b2%d0%b8%d0%bb%d1%8c%d0%bd%d0%be-%d0%b8%d0%b7%d0%bc%d0%b5%d0%bd%d0%b8%d1%82%d1%8c-fill-%d1%83-svg-%d0%bf%d0%be-%d0%ba%d0%bb%d0%b8%d0%ba%d1%83-%d1%81-%d0%bf%d0%be%d0%bc%d0%be%d1%89%d1%8c%d1%8e-javascript\n",
      "SQLiteDataReader ничего не находит https://ru.stackoverflow.com/questions/1480731/sqlitedatareader-%d0%bd%d0%b8%d1%87%d0%b5%d0%b3%d0%be-%d0%bd%d0%b5-%d0%bd%d0%b0%d1%85%d0%be%d0%b4%d0%b8%d1%82\n",
      "Телеграм бот: ошибка aiogram.utils.exceptions.BadRequest: Can't parse reply keyboard markup json object https://ru.stackoverflow.com/questions/1461679/%d0%a2%d0%b5%d0%bb%d0%b5%d0%b3%d1%80%d0%b0%d0%bc-%d0%b1%d0%be%d1%82-%d0%be%d1%88%d0%b8%d0%b1%d0%ba%d0%b0-aiogram-utils-exceptions-badrequest-cant-parse-reply-keyb\n",
      "Создать таблицу с возможностью выбора множества значений https://ru.stackoverflow.com/questions/1480745/%d0%a1%d0%be%d0%b7%d0%b4%d0%b0%d1%82%d1%8c-%d1%82%d0%b0%d0%b1%d0%bb%d0%b8%d1%86%d1%83-%d1%81-%d0%b2%d0%be%d0%b7%d0%bc%d0%be%d0%b6%d0%bd%d0%be%d1%81%d1%82%d1%8c%d1%8e-%d0%b2%d1%8b%d0%b1%d0%be%d1%80%d0%b0-%d0%bc%d0%bd%d0%be%d0%b6%d0%b5%d1%81%d1%82%d0%b2%d0%b0-%d0%b7%d0%bd%d0%b0%d1%87%d0%b5%d0%bd%d0%b8%d0%b9\n",
      "как перенести этот код {{post.author.posts.count}} из Html в views.py https://ru.stackoverflow.com/questions/1480540/%d0%ba%d0%b0%d0%ba-%d0%bf%d0%b5%d1%80%d0%b5%d0%bd%d0%b5%d1%81%d1%82%d0%b8-%d1%8d%d1%82%d0%be%d1%82-%d0%ba%d0%be%d0%b4-post-author-posts-count-%d0%b8%d0%b7-html-%d0%b2-views-py\n",
      "Замена пустых значений по условию https://ru.stackoverflow.com/questions/1480722/%d0%97%d0%b0%d0%bc%d0%b5%d0%bd%d0%b0-%d0%bf%d1%83%d1%81%d1%82%d1%8b%d1%85-%d0%b7%d0%bd%d0%b0%d1%87%d0%b5%d0%bd%d0%b8%d0%b9-%d0%bf%d0%be-%d1%83%d1%81%d0%bb%d0%be%d0%b2%d0%b8%d1%8e\n",
      "JS Функция , которая возвращает наибольшее знечение среди выражений (a + b ) ( a - b ) (a * b) (a / b) дает не тот ответ https://ru.stackoverflow.com/questions/1138070/js-%d0%a4%d1%83%d0%bd%d0%ba%d1%86%d0%b8%d1%8f-%d0%ba%d0%be%d1%82%d0%be%d1%80%d0%b0%d1%8f-%d0%b2%d0%be%d0%b7%d0%b2%d1%80%d0%b0%d1%89%d0%b0%d0%b5%d1%82-%d0%bd%d0%b0%d0%b8%d0%b1%d0%be%d0%bb%d1%8c%d1%88%d0%b5%d0%b5-%d0%b7%d0%bd%d0%b5%d1%87%d0%b5%d0%bd%d0%b8%d0%b5-%d1%81%d1%80%d0%b5%d0%b4%d0%b8-%d0%b2%d1%8b%d1%80%d0%b0%d0%b6%d0%b5%d0%bd%d0%b8%d0%b9-a-b-a\n"
     ]
    }
   ],
   "source": [
    "from bs4 import BeautifulSoup\n",
    "import requests\n",
    "\n",
    "base = 'https://ru.stackoverflow.com'\n",
    "html = requests.get(base).content\n",
    "\n",
    "soup = BeautifulSoup(html, 'lxml')\n",
    "div = soup.find('div', id=\"question-mini-list\") \n",
    "a = div.find_all(lambda tag: tag.name == 'a' and tag.get('class') == ['s-link'])\n",
    "\n",
    "for _ in a:\n",
    "    print(_.getText(), base + _.get('href'))\n",
    "\n"
   ]
  }
 ],
 "metadata": {
  "kernelspec": {
   "display_name": "Python 3 (ipykernel)",
   "language": "python",
   "name": "python3"
  },
  "language_info": {
   "codemirror_mode": {
    "name": "ipython",
    "version": 3
   },
   "file_extension": ".py",
   "mimetype": "text/x-python",
   "name": "python",
   "nbconvert_exporter": "python",
   "pygments_lexer": "ipython3",
   "version": "3.8.10"
  }
 },
 "nbformat": 4,
 "nbformat_minor": 5
}
